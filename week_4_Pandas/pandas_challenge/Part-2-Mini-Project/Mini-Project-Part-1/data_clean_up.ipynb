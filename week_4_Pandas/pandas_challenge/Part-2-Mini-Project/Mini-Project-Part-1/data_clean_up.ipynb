{
 "cells": [
  {
   "cell_type": "markdown",
   "metadata": {},
   "source": [
    "## Python Mini-Project: Data Clean-Up, Pt. 1\n",
    "\n",
    "Pay close attention to the prompts to help guide you through this task."
   ]
  },
  {
   "cell_type": "code",
   "execution_count": 1,
   "metadata": {},
   "outputs": [],
   "source": [
    "# Dependencies\n",
    "import pandas as pd\n",
    "import os"
   ]
  },
  {
   "cell_type": "code",
   "execution_count": 2,
   "metadata": {},
   "outputs": [],
   "source": [
    "# load CSV\n",
    "filePath = os.path.join('Resources','2016-FCC-New-Coders-Survey-Data.csv')"
   ]
  },
  {
   "cell_type": "code",
   "execution_count": 3,
   "metadata": {
    "scrolled": true
   },
   "outputs": [
    {
     "data": {
      "text/html": [
       "<div>\n",
       "<style scoped>\n",
       "    .dataframe tbody tr th:only-of-type {\n",
       "        vertical-align: middle;\n",
       "    }\n",
       "\n",
       "    .dataframe tbody tr th {\n",
       "        vertical-align: top;\n",
       "    }\n",
       "\n",
       "    .dataframe thead th {\n",
       "        text-align: right;\n",
       "    }\n",
       "</style>\n",
       "<table border=\"1\" class=\"dataframe\">\n",
       "  <thead>\n",
       "    <tr style=\"text-align: right;\">\n",
       "      <th></th>\n",
       "      <th>Age</th>\n",
       "      <th>AttendedBootcamp</th>\n",
       "      <th>BootcampFinish</th>\n",
       "      <th>BootcampFullJobAfter</th>\n",
       "      <th>BootcampLoanYesNo</th>\n",
       "      <th>BootcampMonthsAgo</th>\n",
       "      <th>BootcampName</th>\n",
       "      <th>BootcampPostSalary</th>\n",
       "      <th>BootcampRecommend</th>\n",
       "      <th>ChildrenNumber</th>\n",
       "      <th>...</th>\n",
       "      <th>ResourceSoloLearn</th>\n",
       "      <th>ResourceStackOverflow</th>\n",
       "      <th>ResourceTreehouse</th>\n",
       "      <th>ResourceUdacity</th>\n",
       "      <th>ResourceUdemy</th>\n",
       "      <th>ResourceW3Schools</th>\n",
       "      <th>ResourceYouTube</th>\n",
       "      <th>SchoolDegree</th>\n",
       "      <th>SchoolMajor</th>\n",
       "      <th>StudentDebtOwe</th>\n",
       "    </tr>\n",
       "  </thead>\n",
       "  <tbody>\n",
       "    <tr>\n",
       "      <th>0</th>\n",
       "      <td>28.0</td>\n",
       "      <td>0.0</td>\n",
       "      <td>NaN</td>\n",
       "      <td>NaN</td>\n",
       "      <td>NaN</td>\n",
       "      <td>NaN</td>\n",
       "      <td>NaN</td>\n",
       "      <td>NaN</td>\n",
       "      <td>NaN</td>\n",
       "      <td>NaN</td>\n",
       "      <td>...</td>\n",
       "      <td>NaN</td>\n",
       "      <td>NaN</td>\n",
       "      <td>NaN</td>\n",
       "      <td>NaN</td>\n",
       "      <td>NaN</td>\n",
       "      <td>NaN</td>\n",
       "      <td>NaN</td>\n",
       "      <td>some college credit, no degree</td>\n",
       "      <td>NaN</td>\n",
       "      <td>20000.0</td>\n",
       "    </tr>\n",
       "    <tr>\n",
       "      <th>1</th>\n",
       "      <td>22.0</td>\n",
       "      <td>0.0</td>\n",
       "      <td>NaN</td>\n",
       "      <td>NaN</td>\n",
       "      <td>NaN</td>\n",
       "      <td>NaN</td>\n",
       "      <td>NaN</td>\n",
       "      <td>NaN</td>\n",
       "      <td>NaN</td>\n",
       "      <td>NaN</td>\n",
       "      <td>...</td>\n",
       "      <td>NaN</td>\n",
       "      <td>NaN</td>\n",
       "      <td>NaN</td>\n",
       "      <td>NaN</td>\n",
       "      <td>1.0</td>\n",
       "      <td>NaN</td>\n",
       "      <td>NaN</td>\n",
       "      <td>some college credit, no degree</td>\n",
       "      <td>NaN</td>\n",
       "      <td>NaN</td>\n",
       "    </tr>\n",
       "    <tr>\n",
       "      <th>2</th>\n",
       "      <td>19.0</td>\n",
       "      <td>0.0</td>\n",
       "      <td>NaN</td>\n",
       "      <td>NaN</td>\n",
       "      <td>NaN</td>\n",
       "      <td>NaN</td>\n",
       "      <td>NaN</td>\n",
       "      <td>NaN</td>\n",
       "      <td>NaN</td>\n",
       "      <td>NaN</td>\n",
       "      <td>...</td>\n",
       "      <td>NaN</td>\n",
       "      <td>NaN</td>\n",
       "      <td>NaN</td>\n",
       "      <td>NaN</td>\n",
       "      <td>NaN</td>\n",
       "      <td>NaN</td>\n",
       "      <td>NaN</td>\n",
       "      <td>high school diploma or equivalent (GED)</td>\n",
       "      <td>NaN</td>\n",
       "      <td>NaN</td>\n",
       "    </tr>\n",
       "  </tbody>\n",
       "</table>\n",
       "<p>3 rows × 113 columns</p>\n",
       "</div>"
      ],
      "text/plain": [
       "    Age  AttendedBootcamp  BootcampFinish  BootcampFullJobAfter  \\\n",
       "0  28.0               0.0             NaN                   NaN   \n",
       "1  22.0               0.0             NaN                   NaN   \n",
       "2  19.0               0.0             NaN                   NaN   \n",
       "\n",
       "   BootcampLoanYesNo  BootcampMonthsAgo BootcampName  BootcampPostSalary  \\\n",
       "0                NaN                NaN          NaN                 NaN   \n",
       "1                NaN                NaN          NaN                 NaN   \n",
       "2                NaN                NaN          NaN                 NaN   \n",
       "\n",
       "   BootcampRecommend  ChildrenNumber  ... ResourceSoloLearn  \\\n",
       "0                NaN             NaN  ...               NaN   \n",
       "1                NaN             NaN  ...               NaN   \n",
       "2                NaN             NaN  ...               NaN   \n",
       "\n",
       "   ResourceStackOverflow  ResourceTreehouse  ResourceUdacity  ResourceUdemy  \\\n",
       "0                    NaN                NaN              NaN            NaN   \n",
       "1                    NaN                NaN              NaN            1.0   \n",
       "2                    NaN                NaN              NaN            NaN   \n",
       "\n",
       "   ResourceW3Schools  ResourceYouTube  \\\n",
       "0                NaN              NaN   \n",
       "1                NaN              NaN   \n",
       "2                NaN              NaN   \n",
       "\n",
       "                              SchoolDegree  SchoolMajor  StudentDebtOwe  \n",
       "0           some college credit, no degree          NaN         20000.0  \n",
       "1           some college credit, no degree          NaN             NaN  \n",
       "2  high school diploma or equivalent (GED)          NaN             NaN  \n",
       "\n",
       "[3 rows x 113 columns]"
      ]
     },
     "execution_count": 3,
     "metadata": {},
     "output_type": "execute_result"
    }
   ],
   "source": [
    "# Read with pandas\n",
    "fcc_df = pd.read_csv(filePath, low_memory=False)\n",
    "fcc_df.head(3)"
   ]
  },
  {
   "cell_type": "code",
   "execution_count": 4,
   "metadata": {},
   "outputs": [
    {
     "data": {
      "text/plain": [
       "113"
      ]
     },
     "execution_count": 4,
     "metadata": {},
     "output_type": "execute_result"
    }
   ],
   "source": [
    "# Inspect all columns\n",
    "len(fcc_df.columns)"
   ]
  },
  {
   "cell_type": "code",
   "execution_count": 5,
   "metadata": {},
   "outputs": [
    {
     "name": "stdout",
     "output_type": "stream",
     "text": [
      "20\n"
     ]
    },
    {
     "data": {
      "text/plain": [
       "Index(['Age', 'AttendedBootcamp', 'BootcampFinish', 'BootcampFullJobAfter',\n",
       "       'BootcampLoanYesNo', 'BootcampPostSalary', 'BootcampRecommend',\n",
       "       'ChildrenNumber', 'CityPopulation', 'CodeEventBootcamp', 'CountryLive',\n",
       "       'EmploymentField', 'EmploymentStatus', 'Gender', 'HasChildren',\n",
       "       'HoursLearning', 'Income', 'JobRoleInterest', 'SchoolDegree',\n",
       "       'SchoolMajor'],\n",
       "      dtype='object')"
      ]
     },
     "execution_count": 5,
     "metadata": {},
     "output_type": "execute_result"
    }
   ],
   "source": [
    "# Extract only columns 0, 1, 2, 3, 4, 7, 8, 9, 10,11, 29, 30, 32, 36, 37, 45, 48, 56, 110, 111\n",
    "# Use iloc to accomplish this (remember that you need to take the position of the rows and columns into account)\n",
    "lim_fcc_df = fcc_df.iloc[:, [0, 1, 2, 3, 4, 7, 8, 9, 10,11, 29, 30, 32, 36, 37, 45, 48, 56, 110, 111]]\n",
    "print(len(lim_fcc_df.columns))\n",
    "lim_fcc_df.columns"
   ]
  },
  {
   "cell_type": "code",
   "execution_count": 6,
   "metadata": {},
   "outputs": [],
   "source": [
    "# Change \"0\" to \"No\" and \"1\" to \"Yes\" in response columns\n",
    "#fixed_fcc_df.replace(to_replace='AttendedBootcamp', value={0.0 :\"No\", 1.:\"Yes\"}, inplace=True)\n",
    "#fixed_fcc_df = lim_fcc_df.replace(to_replace='AttendedBootcamp', value={0.0 :\"No\", 1.0:\"Yes\"}, inplace=True, method=\"None\")\n",
    "fixed_fcc_df = lim_fcc_df.replace({0.0 :\"No\", 1.0:\"Yes\"})\n",
    "\n",
    "#fixed_fcc_df = lim_fcc_df['AttendedBootcamp'].replace({0.0 :\"No\", 1.:\"Yes\"})\n",
    "# Hint use the df.replace function\n",
    "#fixed_fcc_df.head(3)"
   ]
  },
  {
   "cell_type": "code",
   "execution_count": 7,
   "metadata": {},
   "outputs": [],
   "source": [
    "# Calculate total number of respondents in survey\n",
    "# consider using the len() function\n",
    "total_students = len(fixed_fcc_df)\n",
    "#summary_df"
   ]
  },
  {
   "cell_type": "code",
   "execution_count": 8,
   "metadata": {},
   "outputs": [],
   "source": [
    "# Extract rows corresponding only to people who attended a bootcamp\n",
    "# Filter using df.loc on the AttendedBootcamp column\n",
    "bc_only_df = fixed_fcc_df.loc[fixed_fcc_df['AttendedBootcamp'] == \"Yes\"]\n",
    "#bc_only_df.head(3)"
   ]
  },
  {
   "cell_type": "code",
   "execution_count": 9,
   "metadata": {},
   "outputs": [],
   "source": [
    "# Calculate average age of attendees\n",
    "# Pull out the `Age` series and take the average of it\n",
    "avg_age = round(bc_only_df['Age'].mean())"
   ]
  },
  {
   "cell_type": "code",
   "execution_count": 10,
   "metadata": {},
   "outputs": [
    {
     "data": {
      "text/plain": [
       "953"
      ]
     },
     "execution_count": 10,
     "metadata": {},
     "output_type": "execute_result"
    }
   ],
   "source": [
    "# Calculate how many people attended a bootcamp\n",
    "# Count the values of the AttendedBootcamp column\n",
    "total_at_bc = len(bc_only_df)\n",
    "total_at_bc"
   ]
  },
  {
   "cell_type": "code",
   "execution_count": 11,
   "metadata": {},
   "outputs": [
    {
     "data": {
      "text/plain": [
       "bachelor's degree                           462\n",
       "some college credit, no degree              116\n",
       "master's degree (non-professional)           96\n",
       "professional degree (MBA, MD, JD, etc.)      39\n",
       "high school diploma or equivalent (GED)      38\n",
       "associate's degree                           32\n",
       "trade, technical, or vocational training     24\n",
       "some high school                             10\n",
       "Ph.D.                                         8\n",
       "no high school (secondary school)             7\n",
       "Name: SchoolDegree, dtype: int64"
      ]
     },
     "execution_count": 11,
     "metadata": {},
     "output_type": "execute_result"
    }
   ],
   "source": [
    "# Calculate how many attendees hold degrees\n",
    "# It is easier to do this with `value_counts() count values for the SchoolDegree column\n",
    "#print(bc_only_df['SchoolDegree'].unique())\n",
    "bc_only_df['SchoolDegree'].value_counts()"
   ]
  },
  {
   "cell_type": "code",
   "execution_count": 12,
   "metadata": {},
   "outputs": [],
   "source": [
    "count_boots = bc_only_df.replace({\n",
    "    'Ph.D.' : \"Yes\",\"bachelor's degree\" : \"Yes\",\n",
    "     'professional degree (MBA, MD, JD, etc.)' : \"Yes\",\n",
    "     \"master's degree (non-professional)\" : \"Yes\",\"associate's degree\" : \"Yes\"\n",
    "    })\n",
    "\n",
    "clean_degree_df = fixed_fcc_df.replace({\n",
    "    'Ph.D.' : \"Yes\",\"bachelor's degree\" : \"Yes\",\n",
    "     'professional degree (MBA, MD, JD, etc.)' : \"Yes\",\n",
    "     \"master's degree (non-professional)\" : \"Yes\",\"associate's degree\" : \"Yes\"\n",
    "    })"
   ]
  },
  {
   "cell_type": "code",
   "execution_count": 13,
   "metadata": {},
   "outputs": [
    {
     "name": "stdout",
     "output_type": "stream",
     "text": [
      "637 of 953 bootcamp students hold higher education degrees.\n"
     ]
    }
   ],
   "source": [
    "# Count the number of records where the person is a degree holder\n",
    "# There are several ways to approach this. You can look for people who have degrees\n",
    "# or for people who don't have degrees depending on the value of the SchoolDegree column\n",
    "print(f\"{len(count_boots.loc[count_boots['SchoolDegree'] == 'Yes'])} of {len(count_boots)} bootcamp students hold higher education degrees.\")"
   ]
  },
  {
   "cell_type": "code",
   "execution_count": 14,
   "metadata": {},
   "outputs": [
    {
     "name": "stdout",
     "output_type": "stream",
     "text": [
      " male: 496 female: 326 non-binary: 131 of 953 total\n"
     ]
    },
    {
     "data": {
      "text/plain": [
       "array(['male', 'female', 'genderqueer', nan, 'trans', 'agender'],\n",
       "      dtype=object)"
      ]
     },
     "execution_count": 14,
     "metadata": {},
     "output_type": "execute_result"
    }
   ],
   "source": [
    "# Count number of attendees who self-identify as male; female; or are of non-binary gender identification\n",
    "total_bc_students = len(bc_only_df)\n",
    "bc_male_count = bc_only_df['AttendedBootcamp'].loc[bc_only_df['Gender'] == 'male'].count()\n",
    "bc_female_count = bc_only_df['AttendedBootcamp'].loc[bc_only_df['Gender'] == 'female'].count()\n",
    "bc_nb_count = total_bc_students - bc_male_count - bc_female_count\n",
    "print(f\" male: {bc_male_count} female: {bc_female_count} non-binary: {bc_nb_count} of {total_bc_students} total\")\n",
    "bc_only_df['Gender'].unique()\n"
   ]
  },
  {
   "cell_type": "code",
   "execution_count": 15,
   "metadata": {},
   "outputs": [
    {
     "name": "stdout",
     "output_type": "stream",
     "text": [
      "6.101152368758003% of students attended a bootcamp\n"
     ]
    }
   ],
   "source": [
    "# Calculate percentage of respondents who attended a bootcamp\n",
    "percent_bc = total_bc_students / total_students * 100\n",
    "\n",
    "print(f\"{percent_bc}% of students attended a bootcamp\")"
   ]
  },
  {
   "cell_type": "code",
   "execution_count": 16,
   "metadata": {},
   "outputs": [
    {
     "name": "stdout",
     "output_type": "stream",
     "text": [
      " male: 10766(78.32096609922885) female: 2840(20.660555798050343) non-binary: 140(1.0184781027207914) of 13746 total\n"
     ]
    },
    {
     "data": {
      "text/plain": [
       "1874"
      ]
     },
     "execution_count": 16,
     "metadata": {},
     "output_type": "execute_result"
    }
   ],
   "source": [
    "# Calculate percentage of respondents belonging to each gender\n",
    "filled_fcc_df = pd.DataFrame()\n",
    "filled_fcc_df = fixed_fcc_df.fillna('na')\n",
    "total_male = len(filled_fcc_df.loc[filled_fcc_df['Gender'] == 'male'])\n",
    "total_female = len(filled_fcc_df.loc[filled_fcc_df['Gender'] == 'female'])\n",
    "total_na = len(filled_fcc_df.loc[filled_fcc_df['Gender'] == 'na'])\n",
    "total_students = total_students - total_na\n",
    "total_nb = total_students - total_male - total_female\n",
    "percent_male = total_male / total_students * 100\n",
    "percent_female = total_female / total_students * 100\n",
    "percent_nb = total_nb / total_students * 100\n",
    "print(f\" male: {total_male}({percent_male}) female: {total_female}({percent_female}) non-binary: {total_nb}({percent_nb}) of {total_students} total\")\n",
    "total_na"
   ]
  },
  {
   "cell_type": "code",
   "execution_count": 17,
   "metadata": {},
   "outputs": [
    {
     "name": "stdout",
     "output_type": "stream",
     "text": [
      "637 of 953 bootcamp students hold higher education degrees.\n"
     ]
    }
   ],
   "source": [
    "# Calculate percentage of attendees with a college degree\n",
    "print(f\"{len(count_boots.loc[count_boots['SchoolDegree'] == 'Yes'])} of {len(count_boots)} bootcamp students hold higher education degrees.\")\n",
    "total_degree_holders = len(clean_degree_df.loc[clean_degree_df['SchoolDegree'] == 'Yes'])\n",
    "percent_degree_holders = total_degree_holders / total_students *100"
   ]
  },
  {
   "cell_type": "code",
   "execution_count": 18,
   "metadata": {},
   "outputs": [
    {
     "data": {
      "text/plain": [
       "63740.50606060606"
      ]
     },
     "execution_count": 18,
     "metadata": {},
     "output_type": "execute_result"
    }
   ],
   "source": [
    "# Calculate average post-bootcamp salary\n",
    "\n",
    "mean_post_salary = count_boots['BootcampPostSalary'].mean()\n",
    "mean_post_salary"
   ]
  },
  {
   "cell_type": "code",
   "execution_count": 19,
   "metadata": {},
   "outputs": [
    {
     "data": {
      "text/html": [
       "<div>\n",
       "<style scoped>\n",
       "    .dataframe tbody tr th:only-of-type {\n",
       "        vertical-align: middle;\n",
       "    }\n",
       "\n",
       "    .dataframe tbody tr th {\n",
       "        vertical-align: top;\n",
       "    }\n",
       "\n",
       "    .dataframe thead th {\n",
       "        text-align: right;\n",
       "    }\n",
       "</style>\n",
       "<table border=\"1\" class=\"dataframe\">\n",
       "  <thead>\n",
       "    <tr style=\"text-align: right;\">\n",
       "      <th></th>\n",
       "      <th>Total Surveyed</th>\n",
       "      <th>Avg. Age</th>\n",
       "      <th>Total Bootcamp Attendees</th>\n",
       "      <th>% Attended Bootcamp</th>\n",
       "      <th>% Male</th>\n",
       "      <th>% Female</th>\n",
       "      <th>% Non-Binary Gender</th>\n",
       "      <th>Has a Degree</th>\n",
       "      <th>Average Post Bootcamp Salary</th>\n",
       "    </tr>\n",
       "  </thead>\n",
       "  <tbody>\n",
       "    <tr>\n",
       "      <th>0</th>\n",
       "      <td>13746</td>\n",
       "      <td>31</td>\n",
       "      <td>953</td>\n",
       "      <td>6.1</td>\n",
       "      <td>78.32</td>\n",
       "      <td>20.66</td>\n",
       "      <td>1.02</td>\n",
       "      <td>62.49</td>\n",
       "      <td>63740.51</td>\n",
       "    </tr>\n",
       "  </tbody>\n",
       "</table>\n",
       "</div>"
      ],
      "text/plain": [
       "   Total Surveyed  Avg. Age  Total Bootcamp Attendees  % Attended Bootcamp  \\\n",
       "0           13746        31                       953                  6.1   \n",
       "\n",
       "   % Male  % Female  % Non-Binary Gender  Has a Degree  \\\n",
       "0   78.32     20.66                 1.02         62.49   \n",
       "\n",
       "   Average Post Bootcamp Salary  \n",
       "0                      63740.51  "
      ]
     },
     "execution_count": 19,
     "metadata": {},
     "output_type": "execute_result"
    }
   ],
   "source": [
    "# Create a new table consolidating above calculations\n",
    "summary_df = pd.DataFrame({\n",
    "    'Total Surveyed' : [total_students],\n",
    "    'Avg. Age' : [avg_age],\n",
    "    'Total Bootcamp Attendees' : [total_at_bc],\n",
    "    '% Attended Bootcamp' : [float(percent_bc)],\n",
    "    '% Male' : [float(percent_male)],\n",
    "    '% Female' : [float(percent_female)],\n",
    "    '% Non-Binary Gender' : [float(percent_nb)],\n",
    "    'Has a Degree' : [percent_degree_holders],\n",
    "    'Average Post Bootcamp Salary' : [float(mean_post_salary)]\n",
    "}).round(2)\n",
    "#avg_age\n",
    "summary_df"
   ]
  },
  {
   "cell_type": "code",
   "execution_count": 20,
   "metadata": {},
   "outputs": [
    {
     "data": {
      "text/html": [
       "<div>\n",
       "<style scoped>\n",
       "    .dataframe tbody tr th:only-of-type {\n",
       "        vertical-align: middle;\n",
       "    }\n",
       "\n",
       "    .dataframe tbody tr th {\n",
       "        vertical-align: top;\n",
       "    }\n",
       "\n",
       "    .dataframe thead th {\n",
       "        text-align: right;\n",
       "    }\n",
       "</style>\n",
       "<table border=\"1\" class=\"dataframe\">\n",
       "  <thead>\n",
       "    <tr style=\"text-align: right;\">\n",
       "      <th></th>\n",
       "      <th>Total Surveyed</th>\n",
       "      <th>Avg. Age</th>\n",
       "      <th>Total Bootcamp Attendees</th>\n",
       "      <th>% Attended Bootcamp</th>\n",
       "      <th>% Male</th>\n",
       "      <th>% Female</th>\n",
       "      <th>% Non-Binary Gender</th>\n",
       "      <th>Has a Degree</th>\n",
       "      <th>Average Post Bootcamp Salary</th>\n",
       "    </tr>\n",
       "  </thead>\n",
       "  <tbody>\n",
       "    <tr>\n",
       "      <th>0</th>\n",
       "      <td>13746</td>\n",
       "      <td>31</td>\n",
       "      <td>953</td>\n",
       "      <td>6.10%</td>\n",
       "      <td>78.32%</td>\n",
       "      <td>20.66%</td>\n",
       "      <td>1.02%</td>\n",
       "      <td>62.49</td>\n",
       "      <td>$63,740.51</td>\n",
       "    </tr>\n",
       "  </tbody>\n",
       "</table>\n",
       "</div>"
      ],
      "text/plain": [
       "   Total Surveyed  Avg. Age  Total Bootcamp Attendees % Attended Bootcamp  \\\n",
       "0           13746        31                       953               6.10%   \n",
       "\n",
       "   % Male % Female % Non-Binary Gender  Has a Degree  \\\n",
       "0  78.32%   20.66%               1.02%         62.49   \n",
       "\n",
       "  Average Post Bootcamp Salary  \n",
       "0                   $63,740.51  "
      ]
     },
     "execution_count": 20,
     "metadata": {},
     "output_type": "execute_result"
    }
   ],
   "source": [
    "# Improve formatting before outputting spreadsheet\n",
    "summary_df['Average Post Bootcamp Salary'] = summary_df['Average Post Bootcamp Salary'].map(\"${:,.2f}\".format)\n",
    "summary_df['% Male'] = summary_df['% Male'].map(\"{:,.2f}%\".format)\n",
    "summary_df['% Female'] = summary_df['% Female'].map(\"{:,.2f}%\".format)\n",
    "summary_df['% Non-Binary Gender'] = summary_df['% Non-Binary Gender'].map(\"{:,.2f}%\".format)\n",
    "summary_df['% Attended Bootcamp'] = summary_df['% Attended Bootcamp'].map(\"{:,.2f}%\".format)\n",
    "summary_df"
   ]
  },
  {
   "cell_type": "code",
   "execution_count": 21,
   "metadata": {},
   "outputs": [],
   "source": [
    "# Export to Excel\n",
    "# Use df.to_excel to export to excel. Don't include the indexes\n",
    "summary_df.to_excel(\"./output/bootcamp_summary_report.xls\", index=False)\n"
   ]
  },
  {
   "cell_type": "code",
   "execution_count": null,
   "metadata": {},
   "outputs": [],
   "source": []
  }
 ],
 "metadata": {
  "anaconda-cloud": {},
  "kernelspec": {
   "display_name": "Python 3",
   "language": "python",
   "name": "python3"
  },
  "language_info": {
   "codemirror_mode": {
    "name": "ipython",
    "version": 3
   },
   "file_extension": ".py",
   "mimetype": "text/x-python",
   "name": "python",
   "nbconvert_exporter": "python",
   "pygments_lexer": "ipython3",
   "version": "3.7.3"
  }
 },
 "nbformat": 4,
 "nbformat_minor": 4
}
