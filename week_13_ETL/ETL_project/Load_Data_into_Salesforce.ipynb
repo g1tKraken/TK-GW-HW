{
 "cells": [
  {
   "cell_type": "markdown",
   "metadata": {},
   "source": [
    "## Install `simple_salesforce`  module\n",
    "\n",
    "Remove the comment symbol (#) to run `!pip install simple_salesforce`. Once this module is installed, you can comment it out again. "
   ]
  },
  {
   "cell_type": "code",
   "execution_count": null,
   "metadata": {},
   "outputs": [],
   "source": [
    "#!pip install simple_salesforce"
   ]
  },
  {
   "cell_type": "markdown",
   "metadata": {},
   "source": [
    "## Import dependencies"
   ]
  },
  {
   "cell_type": "code",
   "execution_count": 1,
   "metadata": {},
   "outputs": [],
   "source": [
    "import json\n",
    "from sqlalchemy import create_engine\n",
    "import pandas as pd\n",
    "import pymysql\n",
    "pymysql.install_as_MySQLdb()\n",
    "\n"
   ]
  },
  {
   "cell_type": "markdown",
   "metadata": {},
   "source": [
    "## Import configuration variables"
   ]
  },
  {
   "cell_type": "code",
   "execution_count": 2,
   "metadata": {
    "tags": []
   },
   "outputs": [],
   "source": [
    "import os\n",
    "# Import API key\n",
    "orig_wd = os.getcwd()\n",
    "os.chdir(os.path.join('..','..','..','..','..'))\n",
    "from config import sf_username, sf_password, sf_security_token\n",
    "from config import remote_db_endpoint, remote_db_port\n",
    "from config import remote_db_name, remote_db_user, remote_db_pwd\n",
    "os.chdir(orig_wd)"
   ]
  },
  {
   "cell_type": "markdown",
   "metadata": {},
   "source": [
    "## Set up `simple_salesforce`\n",
    "\n",
    "Pass in the username, password, and security token here. The security token contains information about your org."
   ]
  },
  {
   "cell_type": "code",
   "execution_count": 78,
   "metadata": {},
   "outputs": [],
   "source": [
    "from simple_salesforce import Salesforce\n",
    "sf = Salesforce(username=sf_username, password=sf_password, security_token=sf_security_token)"
   ]
  },
  {
   "cell_type": "markdown",
   "metadata": {},
   "source": [
    "## Connect to your MySQL database"
   ]
  },
  {
   "cell_type": "code",
   "execution_count": 108,
   "metadata": {},
   "outputs": [],
   "source": [
    "engine = create_engine(f\"mysql://{remote_db_user}:{remote_db_pwd}@{remote_db_endpoint}:{remote_db_port}/{remote_db_name}\")\n",
    "conn = engine.connect()"
   ]
  },
  {
   "cell_type": "markdown",
   "metadata": {},
   "source": [
    "# Load Students"
   ]
  },
  {
   "cell_type": "code",
   "execution_count": 22,
   "metadata": {},
   "outputs": [
    {
     "data": {
      "text/html": [
       "<div>\n",
       "<style scoped>\n",
       "    .dataframe tbody tr th:only-of-type {\n",
       "        vertical-align: middle;\n",
       "    }\n",
       "\n",
       "    .dataframe tbody tr th {\n",
       "        vertical-align: top;\n",
       "    }\n",
       "\n",
       "    .dataframe thead th {\n",
       "        text-align: right;\n",
       "    }\n",
       "</style>\n",
       "<table border=\"1\" class=\"dataframe\">\n",
       "  <thead>\n",
       "    <tr style=\"text-align: right;\">\n",
       "      <th></th>\n",
       "      <th>ID_Student</th>\n",
       "      <th>StudentID</th>\n",
       "      <th>LastName</th>\n",
       "      <th>FirstName</th>\n",
       "      <th>MiddleName</th>\n",
       "      <th>BirthDate</th>\n",
       "      <th>Gender</th>\n",
       "    </tr>\n",
       "  </thead>\n",
       "  <tbody>\n",
       "    <tr>\n",
       "      <th>0</th>\n",
       "      <td>33</td>\n",
       "      <td>25004961</td>\n",
       "      <td>Moore</td>\n",
       "      <td>Heather</td>\n",
       "      <td>Alice</td>\n",
       "      <td>None</td>\n",
       "      <td>F</td>\n",
       "    </tr>\n",
       "    <tr>\n",
       "      <th>1</th>\n",
       "      <td>34</td>\n",
       "      <td>25003514</td>\n",
       "      <td>Multak</td>\n",
       "      <td>Ilana</td>\n",
       "      <td>Cecille</td>\n",
       "      <td>None</td>\n",
       "      <td>F</td>\n",
       "    </tr>\n",
       "    <tr>\n",
       "      <th>2</th>\n",
       "      <td>35</td>\n",
       "      <td>25005833</td>\n",
       "      <td>Murillo</td>\n",
       "      <td>Jessica</td>\n",
       "      <td>Dorothy</td>\n",
       "      <td>None</td>\n",
       "      <td>F</td>\n",
       "    </tr>\n",
       "    <tr>\n",
       "      <th>3</th>\n",
       "      <td>36</td>\n",
       "      <td>25002589</td>\n",
       "      <td>Romanowski</td>\n",
       "      <td>Kandra</td>\n",
       "      <td>Genevieve</td>\n",
       "      <td>None</td>\n",
       "      <td>F</td>\n",
       "    </tr>\n",
       "    <tr>\n",
       "      <th>4</th>\n",
       "      <td>37</td>\n",
       "      <td>25007185</td>\n",
       "      <td>Hoffer</td>\n",
       "      <td>Katherine</td>\n",
       "      <td>Lynnette</td>\n",
       "      <td>None</td>\n",
       "      <td>F</td>\n",
       "    </tr>\n",
       "  </tbody>\n",
       "</table>\n",
       "</div>"
      ],
      "text/plain": [
       "   ID_Student StudentID    LastName  FirstName MiddleName BirthDate Gender\n",
       "0          33  25004961       Moore    Heather      Alice      None      F\n",
       "1          34  25003514      Multak      Ilana    Cecille      None      F\n",
       "2          35  25005833     Murillo    Jessica    Dorothy      None      F\n",
       "3          36  25002589  Romanowski     Kandra  Genevieve      None      F\n",
       "4          37  25007185      Hoffer  Katherine   Lynnette      None      F"
      ]
     },
     "execution_count": 22,
     "metadata": {},
     "output_type": "execute_result"
    }
   ],
   "source": [
    "student_data = pd.read_sql(\"SELECT * FROM student\", conn)\n",
    "student_data.head(5)"
   ]
  },
  {
   "cell_type": "code",
   "execution_count": 24,
   "metadata": {},
   "outputs": [
    {
     "data": {
      "text/html": [
       "<div>\n",
       "<style scoped>\n",
       "    .dataframe tbody tr th:only-of-type {\n",
       "        vertical-align: middle;\n",
       "    }\n",
       "\n",
       "    .dataframe tbody tr th {\n",
       "        vertical-align: top;\n",
       "    }\n",
       "\n",
       "    .dataframe thead th {\n",
       "        text-align: right;\n",
       "    }\n",
       "</style>\n",
       "<table border=\"1\" class=\"dataframe\">\n",
       "  <thead>\n",
       "    <tr style=\"text-align: right;\">\n",
       "      <th></th>\n",
       "      <th>LastName__c</th>\n",
       "      <th>FirstName__c</th>\n",
       "      <th>ID_Student__c</th>\n",
       "      <th>Company__c</th>\n",
       "      <th>Gender__c</th>\n",
       "      <th>MiddleName__c</th>\n",
       "      <th>StudentID__c</th>\n",
       "      <th>Name</th>\n",
       "    </tr>\n",
       "  </thead>\n",
       "  <tbody>\n",
       "    <tr>\n",
       "      <th>0</th>\n",
       "      <td>Moore</td>\n",
       "      <td>Heather</td>\n",
       "      <td>33</td>\n",
       "      <td>Dartling University</td>\n",
       "      <td>F</td>\n",
       "      <td>Alice</td>\n",
       "      <td>25004961</td>\n",
       "      <td>Heather Moore</td>\n",
       "    </tr>\n",
       "    <tr>\n",
       "      <th>1</th>\n",
       "      <td>Multak</td>\n",
       "      <td>Ilana</td>\n",
       "      <td>34</td>\n",
       "      <td>Dartling University</td>\n",
       "      <td>F</td>\n",
       "      <td>Cecille</td>\n",
       "      <td>25003514</td>\n",
       "      <td>Ilana Multak</td>\n",
       "    </tr>\n",
       "    <tr>\n",
       "      <th>2</th>\n",
       "      <td>Murillo</td>\n",
       "      <td>Jessica</td>\n",
       "      <td>35</td>\n",
       "      <td>Dartling University</td>\n",
       "      <td>F</td>\n",
       "      <td>Dorothy</td>\n",
       "      <td>25005833</td>\n",
       "      <td>Jessica Murillo</td>\n",
       "    </tr>\n",
       "    <tr>\n",
       "      <th>3</th>\n",
       "      <td>Romanowski</td>\n",
       "      <td>Kandra</td>\n",
       "      <td>36</td>\n",
       "      <td>Dartling University</td>\n",
       "      <td>F</td>\n",
       "      <td>Genevieve</td>\n",
       "      <td>25002589</td>\n",
       "      <td>Kandra Romanowski</td>\n",
       "    </tr>\n",
       "    <tr>\n",
       "      <th>4</th>\n",
       "      <td>Hoffer</td>\n",
       "      <td>Katherine</td>\n",
       "      <td>37</td>\n",
       "      <td>Dartling University</td>\n",
       "      <td>F</td>\n",
       "      <td>Lynnette</td>\n",
       "      <td>25007185</td>\n",
       "      <td>Katherine Hoffer</td>\n",
       "    </tr>\n",
       "  </tbody>\n",
       "</table>\n",
       "</div>"
      ],
      "text/plain": [
       "  LastName__c FirstName__c  ID_Student__c           Company__c Gender__c  \\\n",
       "0       Moore      Heather             33  Dartling University         F   \n",
       "1      Multak        Ilana             34  Dartling University         F   \n",
       "2     Murillo      Jessica             35  Dartling University         F   \n",
       "3  Romanowski       Kandra             36  Dartling University         F   \n",
       "4      Hoffer    Katherine             37  Dartling University         F   \n",
       "\n",
       "  MiddleName__c StudentID__c               Name  \n",
       "0         Alice     25004961      Heather Moore  \n",
       "1       Cecille     25003514       Ilana Multak  \n",
       "2       Dorothy     25005833    Jessica Murillo  \n",
       "3     Genevieve     25002589  Kandra Romanowski  \n",
       "4      Lynnette     25007185   Katherine Hoffer  "
      ]
     },
     "execution_count": 24,
     "metadata": {},
     "output_type": "execute_result"
    }
   ],
   "source": [
    "student_data['FullName'] = student_data['FirstName'].str.cat(student_data['LastName'], sep=\" \")\n",
    "student_data['Company'] = 'Dartling University'\n",
    "#student_data = student_data\n",
    "student_load_df = student_data[['LastName','FirstName','ID_Student','Company','Gender','MiddleName','StudentID','FullName']].\\\n",
    "    rename(columns={'FullName':'Name',\n",
    "                    'LastName':'LastName__c',\n",
    "                    'FirstName':'FirstName__c',\n",
    "                    'Company':'Company__c',\n",
    "                    'Gender':'Gender__c',\n",
    "                    'ID_Student':'ID_Student__c',\n",
    "                    'MiddleName':'MiddleName__c',\n",
    "                    'StudentID':'StudentID__c'})\n",
    "                  \n",
    "student_load_df.head()"
   ]
  },
  {
   "cell_type": "code",
   "execution_count": 25,
   "metadata": {},
   "outputs": [],
   "source": [
    "student_load = student_load_df.to_dict('records')\n",
    "#print(student_load)\n",
    "try:\n",
    "    sf.bulk.student__c.insert(student_load)\n",
    "except Exception as e:\n",
    "    print(e)"
   ]
  },
  {
   "cell_type": "markdown",
   "metadata": {},
   "source": [
    "# Load Courses"
   ]
  },
  {
   "cell_type": "code",
   "execution_count": 98,
   "metadata": {},
   "outputs": [
    {
     "name": "stdout",
     "output_type": "stream",
     "text": [
      "There are 8 records to load, record at index 0 is:\n",
      " {'ID_Course__c': 1, 'CourseCode__c': 'BC-DATAVIZ', 'Name': 'Data Visualization and Analytics', 'CreditHours__c': 12, 'BootCampCourse__c': 1}\n"
     ]
    }
   ],
   "source": [
    "data = pd.read_sql(\"SELECT * FROM course\", conn)\n",
    "data_load_df = data[['ID_Course','CourseCode','CourseName','CreditHours','BootCampCourse']].\\\n",
    "    rename(columns={'ID_Course':'ID_Course__c',\n",
    "                    'CourseCode':'CourseCode__c',\n",
    "                    'CourseName':'Name',\n",
    "                    'CreditHours':'CreditHours__c',\n",
    "                    'BootCampCourse':'BootCampCourse__c'})\n",
    "data_load = data_load_df.to_dict('records')\n",
    "print(f'There are {len(data_load)} records to load, record at index 0 is:\\n {data_load[0]}')"
   ]
  },
  {
   "cell_type": "code",
   "execution_count": 99,
   "metadata": {},
   "outputs": [],
   "source": [
    "for record in data_load:\n",
    "    try:\n",
    "        #print(f'posting : {record}')\n",
    "        sf.course__c.create(record)\n",
    "    except Exception as e:\n",
    "        print(e)"
   ]
  },
  {
   "cell_type": "markdown",
   "metadata": {},
   "source": [
    "# load Staff"
   ]
  },
  {
   "cell_type": "code",
   "execution_count": 61,
   "metadata": {},
   "outputs": [
    {
     "name": "stdout",
     "output_type": "stream",
     "text": [
      "There are 4 records to load, record at index 0 is:\n",
      " {'ID_Staff__c': 1, 'EmployeeID__c': '000184220', 'LastName__c': 'Wimberly', 'FirstName__c': 'Sam', 'MiddleName': 'Nico', 'BirthDate__c': datetime.date(1995, 7, 5), 'Name': 'Sam Wimberly'}\n"
     ]
    }
   ],
   "source": [
    "data = pd.read_sql(\"SELECT * FROM staff\", conn)\n",
    "data['FullName'] = data['FirstName'].str.cat(data['LastName'], sep=\" \")\n",
    "data_load_df = data.\\\n",
    "    rename(columns={'EmployeeID':'EmployeeID__c',\n",
    "                    'ID_Staff':'ID_Staff__c',\n",
    "                    'FirstName':'FirstName__c',\n",
    "                    'FullName':'Name',\n",
    "                    'LastName':'LastName__c',\n",
    "                    'MiddleName':'MiddleName__c',\n",
    "                    'BirthDate':'BirthDate__c'})\n",
    "#data_load = data_load_df.to_dict('records')\n",
    "print(f'There are {len(data_load)} records to load, record at index 0 is:\\n {data_load[0]}')"
   ]
  },
  {
   "cell_type": "code",
   "execution_count": 65,
   "metadata": {},
   "outputs": [
    {
     "name": "stdout",
     "output_type": "stream",
     "text": [
      "posting : {'EmployeeID__c': '000184220', 'ID_Staff__c': 1, 'FirstName__c': 'Sam', 'Name': 'Sam Wimberly', 'LastName__c': 'Wimberly', 'MiddleName__c': 'Nico', 'BirthDate__c': '1995-07-05'}\n",
      "posting : {'EmployeeID__c': '000130109', 'ID_Staff__c': 2, 'FirstName__c': 'Gemini', 'Name': 'Gemini Sanford', 'LastName__c': 'Sanford', 'MiddleName__c': 'Blair', 'BirthDate__c': '1992-04-22'}\n",
      "posting : {'EmployeeID__c': '000160655', 'ID_Staff__c': 3, 'FirstName__c': 'Dartanion', 'Name': 'Dartanion Williams', 'LastName__c': 'Williams', 'MiddleName__c': 'De Angelo', 'BirthDate__c': '1993-05-21'}\n",
      "posting : {'EmployeeID__c': '000159108', 'ID_Staff__c': 4, 'FirstName__c': 'Sarah', 'Name': 'Sarah Popelka', 'LastName__c': 'Popelka', 'MiddleName__c': 'Nisan', 'BirthDate__c': '1994-06-07'}\n"
     ]
    }
   ],
   "source": [
    "for index, row in data_load_df.iterrows():\n",
    "\n",
    "    record = {\n",
    "        'EmployeeID__c': row['EmployeeID__c'],\n",
    "        'ID_Staff__c': row['ID_Staff__c'],\n",
    "        'FirstName__c': row['FirstName__c'],\n",
    "        'Name': row['Name'],\n",
    "        'LastName__c': row['LastName__c'],\n",
    "        'MiddleName__c': row['MiddleName__c'],\n",
    "        'BirthDate__c': f\"{row['BirthDate__c']}\"\n",
    "    }\n",
    "    try:\n",
    "        print(f'posting : {record}')\n",
    "        sf.staff__c.create(record)\n",
    "    except Exception as e:\n",
    "        print(e)"
   ]
  },
  {
   "cell_type": "markdown",
   "metadata": {},
   "source": [
    "# load classes"
   ]
  },
  {
   "cell_type": "code",
   "execution_count": 102,
   "metadata": {},
   "outputs": [
    {
     "name": "stdout",
     "output_type": "stream",
     "text": [
      "course_lookup_lst: [{'Course_Record_ID__c': 'a043h00000MEbQtAAL', 'ID_Course__c': 4}, {'Course_Record_ID__c': 'a043h00000MEbRDAA1', 'ID_Course__c': 8}, {'Course_Record_ID__c': 'a043h00000MEbQoAAL', 'ID_Course__c': 3}, {'Course_Record_ID__c': 'a043h00000MEbQjAAL', 'ID_Course__c': 2}, {'Course_Record_ID__c': 'a043h00000MEbQeAAL', 'ID_Course__c': 1}, {'Course_Record_ID__c': 'a043h00000MEbQyAAL', 'ID_Course__c': 5}, {'Course_Record_ID__c': 'a043h00000MEbR8AAL', 'ID_Course__c': 7}, {'Course_Record_ID__c': 'a043h00000MEbR3AAL', 'ID_Course__c': 6}]\n"
     ]
    },
    {
     "data": {
      "text/plain": [
       "{'ID_Class__c': 1,\n",
       " 'ID_Course__c': 1,\n",
       " 'Name': 'GWU-ARL-DATA-PT-09-0',\n",
       " 'StartDate__c': datetime.date(2020, 3, 16),\n",
       " 'EndDate__c': datetime.date(2020, 3, 14),\n",
       " 'Course_Record_ID__c': 'a043h00000MEbQeAAL'}"
      ]
     },
     "execution_count": 102,
     "metadata": {},
     "output_type": "execute_result"
    }
   ],
   "source": [
    "data = pd.read_sql(\"SELECT * FROM class\", conn)\n",
    "class_load_df = data.\\\n",
    "    rename(columns={'ID_Class':'ID_Class__c',\n",
    "                    'ID_Course':'ID_Course__c',\n",
    "                    'Section':'Name',\n",
    "                    'StartDate':'StartDate__c',\n",
    "                    'EndDate':'EndDate__c'})\n",
    "#data_load = data_load_df.head(1).to_dict('records')\n",
    "data = sf.query_all_iter(\"SELECT ID_Course__c, Id FROM course__c\")\n",
    "#data = sf.query(\"SELECT Id, ID_Course__c, FROM course__c\")\n",
    "course_lookup_lst = []\n",
    "\n",
    "for row in data:\n",
    "    rec = {\n",
    "        'Course_Record_ID__c': row['Id'], # this is a critical line of code\n",
    "        'ID_Course__c': int(row['ID_Course__c'])\n",
    "    }\n",
    "    course_lookup_lst.append(rec)\n",
    "print(f'course_lookup_lst: {course_lookup_lst}')   \n",
    "course_lookup_df = pd.DataFrame(course_lookup_lst)\n",
    "\n",
    "data_load_df = pd.merge(class_load_df, course_lookup_df, on=\"ID_Course__c\", how='left')\n",
    "\n",
    "data_load = data_load_df.to_dict('records')\n",
    "data_load[0]"
   ]
  },
  {
   "cell_type": "code",
   "execution_count": 106,
   "metadata": {},
   "outputs": [
    {
     "name": "stdout",
     "output_type": "stream",
     "text": [
      "posting : {'ID_Class__c': 1, 'Name': 'GWU-ARL-DATA-PT-09-0', 'ID_Course__c': 1, 'Course_Record_ID__c': 'a043h00000MEbQeAAL', 'StartDate__c': '2020-03-16', 'EndDate__c': '2020-03-14'}\n",
      "posting : {'ID_Class__c': 2, 'Name': 'GWDC201805DATA3', 'ID_Course__c': 1, 'Course_Record_ID__c': 'a043h00000MEbQeAAL', 'StartDate__c': '2018-05-15', 'EndDate__c': '2018-11-08'}\n",
      "posting : {'ID_Class__c': 3, 'Name': 'GWARL201905WEB3', 'ID_Course__c': 2, 'Course_Record_ID__c': 'a043h00000MEbQjAAL', 'StartDate__c': '2019-05-14', 'EndDate__c': '2019-11-07'}\n",
      "posting : {'ID_Class__c': 4, 'Name': 'GWARL201905UIUX3', 'ID_Course__c': 3, 'Course_Record_ID__c': 'a043h00000MEbQoAAL', 'StartDate__c': '2019-05-14', 'EndDate__c': '2019-11-07'}\n"
     ]
    }
   ],
   "source": [
    "for index, row in data_load_df.iterrows():\n",
    "\n",
    "    record = {\n",
    "        'ID_Class__c': row['ID_Class__c'],\n",
    "        'Name': row['Name'],\n",
    "        'ID_Course__c': row['ID_Course__c'],\n",
    "        'Course_Record_ID__c': row['Course_Record_ID__c'],\n",
    "        'StartDate__c': f\"{row['StartDate__c']}\",\n",
    "        'EndDate__c': f\"{row['EndDate__c']}\"\n",
    "    }\n",
    "    try:\n",
    "        print(f'posting : {record}')\n",
    "        sf.class__c.create(record)\n",
    "    except Exception as e:\n",
    "        print(e)"
   ]
  },
  {
   "cell_type": "markdown",
   "metadata": {},
   "source": [
    "# Load Staff assignment table"
   ]
  },
  {
   "cell_type": "code",
   "execution_count": 109,
   "metadata": {},
   "outputs": [
    {
     "data": {
      "text/html": [
       "<div>\n",
       "<style scoped>\n",
       "    .dataframe tbody tr th:only-of-type {\n",
       "        vertical-align: middle;\n",
       "    }\n",
       "\n",
       "    .dataframe tbody tr th {\n",
       "        vertical-align: top;\n",
       "    }\n",
       "\n",
       "    .dataframe thead th {\n",
       "        text-align: right;\n",
       "    }\n",
       "</style>\n",
       "<table border=\"1\" class=\"dataframe\">\n",
       "  <thead>\n",
       "    <tr style=\"text-align: right;\">\n",
       "      <th></th>\n",
       "      <th>ID_StaffAssignment</th>\n",
       "      <th>ID_Staff</th>\n",
       "      <th>ID_Class</th>\n",
       "      <th>Role</th>\n",
       "      <th>StartDate</th>\n",
       "      <th>EndDate</th>\n",
       "    </tr>\n",
       "  </thead>\n",
       "  <tbody>\n",
       "    <tr>\n",
       "      <th>0</th>\n",
       "      <td>1</td>\n",
       "      <td>1</td>\n",
       "      <td>1</td>\n",
       "      <td>Teacher Assistant</td>\n",
       "      <td>2020-03-16</td>\n",
       "      <td>None</td>\n",
       "    </tr>\n",
       "    <tr>\n",
       "      <th>1</th>\n",
       "      <td>2</td>\n",
       "      <td>4</td>\n",
       "      <td>1</td>\n",
       "      <td>Teacher Assistant</td>\n",
       "      <td>2020-03-16</td>\n",
       "      <td>None</td>\n",
       "    </tr>\n",
       "    <tr>\n",
       "      <th>2</th>\n",
       "      <td>3</td>\n",
       "      <td>3</td>\n",
       "      <td>1</td>\n",
       "      <td>Instructor</td>\n",
       "      <td>2020-03-16</td>\n",
       "      <td>None</td>\n",
       "    </tr>\n",
       "  </tbody>\n",
       "</table>\n",
       "</div>"
      ],
      "text/plain": [
       "   ID_StaffAssignment  ID_Staff  ID_Class               Role   StartDate  \\\n",
       "0                   1         1         1  Teacher Assistant  2020-03-16   \n",
       "1                   2         4         1  Teacher Assistant  2020-03-16   \n",
       "2                   3         3         1         Instructor  2020-03-16   \n",
       "\n",
       "  EndDate  \n",
       "0    None  \n",
       "1    None  \n",
       "2    None  "
      ]
     },
     "execution_count": 109,
     "metadata": {},
     "output_type": "execute_result"
    }
   ],
   "source": [
    "data = pd.read_sql(\"SELECT * FROM staffassignment\", conn)\n",
    "data"
   ]
  },
  {
   "cell_type": "code",
   "execution_count": 85,
   "metadata": {},
   "outputs": [
    {
     "data": {
      "text/plain": [
       "[{'ID_Course': 1,\n",
       "  'CourseCode__c': 'BC-DATAVIZ',\n",
       "  'CourseName__c': 'Data Visualization and Analytics',\n",
       "  'CreditHours__c': 12,\n",
       "  'BootCampCourse__c': 1}]"
      ]
     },
     "execution_count": 85,
     "metadata": {},
     "output_type": "execute_result"
    }
   ],
   "source": [
    "class_load_df = data.\\\n",
    "    rename(columns={'ID_Class':'ID_Class__c',\n",
    "                    'ID_StaffAssignment':'ID_StaffAssignment__c',\n",
    "                    'Role':'Role__c',\n",
    "                    'StartDate':'StartDate__c',\n",
    "                    'EndDate':'EndDate__c'})\n",
    "#data_load = data_load_df.head(1).to_dict('records')\n",
    "data = sf.query_all_iter(\"SELECT ID_Course__c, Id FROM class__c\")\n",
    "#data = sf.query(\"SELECT Id, ID_Course__c, FROM course__c\")\n",
    "course_lookup_lst = []\n",
    "\n",
    "for row in data:\n",
    "    rec = {\n",
    "        'Course_Record_ID__c': row['Id'], # this is a critical line of code\n",
    "        'ID_Course__c': int(row['ID_Course__c'])\n",
    "    }\n",
    "    course_lookup_lst.append(rec)\n",
    "print(f'course_lookup_lst: {course_lookup_lst}')   \n",
    "course_lookup_df = pd.DataFrame(course_lookup_lst)\n",
    "\n",
    "data_load_df = pd.merge(class_load_df, course_lookup_df, on=\"ID_Course__c\", how='left')\n",
    "data_load = data_load_df.to_dict('records')\n",
    "data_load[0]"
   ]
  },
  {
   "cell_type": "markdown",
   "metadata": {},
   "source": [
    "## Convert DataFrame to a list of dictionaries \n",
    "\n",
    "This can help facilitate a bulk insert"
   ]
  },
  {
   "cell_type": "code",
   "execution_count": 68,
   "metadata": {},
   "outputs": [
    {
     "data": {
      "text/plain": [
       "[{'ID_Class__c': 1,\n",
       "  'ID_Course__c': 1,\n",
       "  'Section__c': 'GWU-ARL-DATA-PT-09-0',\n",
       "  'StartDate__c': datetime.date(2020, 3, 16),\n",
       "  'EndDate__c': datetime.date(2020, 3, 14)}]"
      ]
     },
     "execution_count": 68,
     "metadata": {},
     "output_type": "execute_result"
    }
   ],
   "source": [
    "data_load_df = data[['ID_Class','ID_Course','Section','StartDate','EndDate']].\\\n",
    "    rename(columns={'ID_Class':'ID_Class__c',\n",
    "                    'ID_Course':'ID_Course__c',\n",
    "                    'Section':'Section__c',\n",
    "                    'StartDate':'StartDate__c',\n",
    "                    'EndDate':'EndDate__c'})\n",
    "data_load = data_load_df.head(1).to_dict('records')\n",
    "data_load"
   ]
  },
  {
   "cell_type": "markdown",
   "metadata": {},
   "source": [
    "## Example of inserting rows individually\n",
    "\n",
    "Loop through the DataFrame and assemble indiviudal dictionaries"
   ]
  },
  {
   "cell_type": "code",
   "execution_count": 76,
   "metadata": {},
   "outputs": [
    {
     "name": "stdout",
     "output_type": "stream",
     "text": [
      "posting : {'ID_Class__c': 1, 'ID_Course__c': 1, 'Name': 'GWU-ARL-DATA-PT-09-0', 'StartDate__c': '2020-03-16', 'EndDate__c': '2020-03-14'}\n",
      "Malformed request https://na111.salesforce.com/services/data/v42.0/sobjects/class__c/. Response content: [{'message': 'ID_Course: id value of incorrect type: 1', 'errorCode': 'MALFORMED_ID', 'fields': ['ID_Course__c']}]\n"
     ]
    }
   ],
   "source": [
    "for index, row in data_load_df.head(1).iterrows():\n",
    "\n",
    "#     record = {\n",
    "#         'LastName__c': row['LastName'],\n",
    "#         'FirstName__c': row['FirstName'],\n",
    "#         'Gender__c': row['Gender'],\n",
    "#         'ID_Student__c':  row['ID_Student'],\n",
    "#         'MiddleName__c': row['MiddleName'],\n",
    "#         'Company__c': 'Dartling University'\n",
    "#     }\n",
    "\n",
    "#     record = {\n",
    "#         'LastName__c': row['LastName'],\n",
    "#         'FirstName__c': row['FirstName'],\n",
    "#         'Gender__c': row['Gender'],\n",
    "#         'ID_Student__c':  row['ID_Student'],\n",
    "#         'MiddleName__c': row['MiddleName'],\n",
    "#         'Company__c': 'Dartling University'\n",
    "#     }\n",
    "    \n",
    "    record = {'ID_Class__c': row['ID_Class__c'],\n",
    "          'ID_Course__c': row['ID_Course__c'],\n",
    "          'Name': row['Section__c'],\n",
    "          'StartDate__c': f\"{row['StartDate__c']}\",\n",
    "          'EndDate__c': f\"{row['EndDate__c']}\"}\n",
    "    \n",
    "#        'StudentID__c':  row['StudentID'],\n",
    "    try:\n",
    "        print(f'posting : {record}')\n",
    "        sf.cou__c.create(record)\n",
    "    except Exception as e:\n",
    "        print(e)"
   ]
  },
  {
   "cell_type": "markdown",
   "metadata": {},
   "source": [
    "## Example of inserting rows in bulk"
   ]
  },
  {
   "cell_type": "code",
   "execution_count": 87,
   "metadata": {},
   "outputs": [
    {
     "name": "stdout",
     "output_type": "stream",
     "text": [
      "[{'ID_Course': 1, 'CourseCode__c': 'BC-DATAVIZ', 'CourseName__c': 'Data Visualization and Analytics', 'CreditHours__c': 12, 'BootCampCourse__c': 1}]\n",
      "Malformed request https://na111.salesforce.com/services/async/42.0/job/7503h000003KTuQAAW/batch/7513h000003JEpWAAW/result. Response content: {'exceptionCode': 'InvalidBatch', 'exceptionMessage': 'Records not processed'}\n"
     ]
    }
   ],
   "source": [
    "print(data_load)\n",
    "try:\n",
    "    sf.bulk.course__c.insert(data_load)\n",
    "except Exception as e:\n",
    "    print(e)"
   ]
  },
  {
   "cell_type": "code",
   "execution_count": 36,
   "metadata": {},
   "outputs": [
    {
     "name": "stdout",
     "output_type": "stream",
     "text": [
      "Malformed request https://na111.salesforce.com/services/data/v42.0/query/?q=SELECT+%2A+FROM+Student__c. Response content: [{'message': \"\\nSELECT * FROM Student__c\\n      ^\\nERROR at Row:1:Column:7\\nunexpected token: '*'\", 'errorCode': 'MALFORMED_QUERY'}]\n",
      "totalSize\n",
      "done\n",
      "records\n"
     ]
    }
   ],
   "source": [
    "try:\n",
    "    data = sf.query(\"SELECT * FROM Student__c\")\n",
    "except Exception as e:\n",
    "    print(e)\n",
    "\n",
    "for row in data:\n",
    "    print(row)"
   ]
  },
  {
   "cell_type": "code",
   "execution_count": 103,
   "metadata": {},
   "outputs": [
    {
     "name": "stdout",
     "output_type": "stream",
     "text": [
      "(8) records will be deleted\n"
     ]
    },
    {
     "data": {
      "text/plain": [
       "[{'success': True, 'created': False, 'id': 'a053h0000050uqxAAA', 'errors': []},\n",
       " {'success': True, 'created': False, 'id': 'a053h0000050ur2AAA', 'errors': []},\n",
       " {'success': True, 'created': False, 'id': 'a053h0000050ur7AAA', 'errors': []},\n",
       " {'success': True, 'created': False, 'id': 'a053h0000050urCAAQ', 'errors': []},\n",
       " {'success': True, 'created': False, 'id': 'a053h0000050uvPAAQ', 'errors': []},\n",
       " {'success': True, 'created': False, 'id': 'a053h0000050uvUAAQ', 'errors': []},\n",
       " {'success': True, 'created': False, 'id': 'a053h0000050uvZAAQ', 'errors': []},\n",
       " {'success': True, 'created': False, 'id': 'a053h0000050uveAAA', 'errors': []}]"
      ]
     },
     "execution_count": 103,
     "metadata": {},
     "output_type": "execute_result"
    }
   ],
   "source": [
    "class_records = sf.query(\"SELECT Id FROM class__c\")\n",
    "recs_to_delete = [{'Id': r['Id']} for r in class_records['records']]\n",
    "print(f'({len(recs_to_delete)}) records will be deleted')\n",
    "sf.bulk.class__c.delete(recs_to_delete)"
   ]
  },
  {
   "cell_type": "code",
   "execution_count": null,
   "metadata": {},
   "outputs": [],
   "source": []
  }
 ],
 "metadata": {
  "kernelspec": {
   "display_name": "Python 3",
   "language": "python",
   "name": "python3"
  },
  "language_info": {
   "codemirror_mode": {
    "name": "ipython",
    "version": 3
   },
   "file_extension": ".py",
   "mimetype": "text/x-python",
   "name": "python",
   "nbconvert_exporter": "python",
   "pygments_lexer": "ipython3",
   "version": "3.7.7"
  }
 },
 "nbformat": 4,
 "nbformat_minor": 4
}
