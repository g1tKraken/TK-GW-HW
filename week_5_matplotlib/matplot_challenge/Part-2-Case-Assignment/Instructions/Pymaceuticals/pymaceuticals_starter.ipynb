{
 "cells": [
  {
   "cell_type": "markdown",
   "metadata": {},
   "source": [
    "## Observations and Insights "
   ]
  },
  {
   "cell_type": "code",
   "execution_count": 1,
   "metadata": {},
   "outputs": [
    {
     "data": {
      "text/html": [
       "<div>\n",
       "<style scoped>\n",
       "    .dataframe tbody tr th:only-of-type {\n",
       "        vertical-align: middle;\n",
       "    }\n",
       "\n",
       "    .dataframe tbody tr th {\n",
       "        vertical-align: top;\n",
       "    }\n",
       "\n",
       "    .dataframe thead th {\n",
       "        text-align: right;\n",
       "    }\n",
       "</style>\n",
       "<table border=\"1\" class=\"dataframe\">\n",
       "  <thead>\n",
       "    <tr style=\"text-align: right;\">\n",
       "      <th></th>\n",
       "      <th>Mouse ID</th>\n",
       "      <th>Drug Regimen</th>\n",
       "      <th>Sex</th>\n",
       "      <th>Age_months</th>\n",
       "      <th>Weight (g)</th>\n",
       "      <th>Timepoint</th>\n",
       "      <th>Tumor Volume (mm3)</th>\n",
       "      <th>Metastatic Sites</th>\n",
       "    </tr>\n",
       "  </thead>\n",
       "  <tbody>\n",
       "    <tr>\n",
       "      <th>0</th>\n",
       "      <td>k403</td>\n",
       "      <td>Ramicane</td>\n",
       "      <td>Male</td>\n",
       "      <td>21</td>\n",
       "      <td>16</td>\n",
       "      <td>0</td>\n",
       "      <td>45.000000</td>\n",
       "      <td>0</td>\n",
       "    </tr>\n",
       "    <tr>\n",
       "      <th>1</th>\n",
       "      <td>k403</td>\n",
       "      <td>Ramicane</td>\n",
       "      <td>Male</td>\n",
       "      <td>21</td>\n",
       "      <td>16</td>\n",
       "      <td>5</td>\n",
       "      <td>38.825898</td>\n",
       "      <td>0</td>\n",
       "    </tr>\n",
       "    <tr>\n",
       "      <th>2</th>\n",
       "      <td>k403</td>\n",
       "      <td>Ramicane</td>\n",
       "      <td>Male</td>\n",
       "      <td>21</td>\n",
       "      <td>16</td>\n",
       "      <td>10</td>\n",
       "      <td>35.014271</td>\n",
       "      <td>1</td>\n",
       "    </tr>\n",
       "    <tr>\n",
       "      <th>3</th>\n",
       "      <td>k403</td>\n",
       "      <td>Ramicane</td>\n",
       "      <td>Male</td>\n",
       "      <td>21</td>\n",
       "      <td>16</td>\n",
       "      <td>15</td>\n",
       "      <td>34.223992</td>\n",
       "      <td>1</td>\n",
       "    </tr>\n",
       "    <tr>\n",
       "      <th>4</th>\n",
       "      <td>k403</td>\n",
       "      <td>Ramicane</td>\n",
       "      <td>Male</td>\n",
       "      <td>21</td>\n",
       "      <td>16</td>\n",
       "      <td>20</td>\n",
       "      <td>32.997729</td>\n",
       "      <td>1</td>\n",
       "    </tr>\n",
       "  </tbody>\n",
       "</table>\n",
       "</div>"
      ],
      "text/plain": [
       "  Mouse ID Drug Regimen   Sex  Age_months  Weight (g)  Timepoint  \\\n",
       "0     k403     Ramicane  Male          21          16          0   \n",
       "1     k403     Ramicane  Male          21          16          5   \n",
       "2     k403     Ramicane  Male          21          16         10   \n",
       "3     k403     Ramicane  Male          21          16         15   \n",
       "4     k403     Ramicane  Male          21          16         20   \n",
       "\n",
       "   Tumor Volume (mm3)  Metastatic Sites  \n",
       "0           45.000000                 0  \n",
       "1           38.825898                 0  \n",
       "2           35.014271                 1  \n",
       "3           34.223992                 1  \n",
       "4           32.997729                 1  "
      ]
     },
     "execution_count": 1,
     "metadata": {},
     "output_type": "execute_result"
    }
   ],
   "source": [
    "# Dependencies and Setup\n",
    "%matplotlib inline\n",
    "import matplotlib.pyplot as plt\n",
    "import pandas as pd\n",
    "from scipy.stats import linregress\n",
    "import scipy.stats as stats\n",
    "import numpy as np\n",
    "from sklearn import datasets\n",
    "\n",
    "# Study data files\n",
    "mouse_metadata_path = \"data/Mouse_metadata.csv\"\n",
    "study_results_path = \"data/Study_results.csv\"\n",
    "\n",
    "# Read the mouse data and the study results\n",
    "mouse_metadata = pd.read_csv(mouse_metadata_path)\n",
    "study_results = pd.read_csv(study_results_path)\n",
    "\n",
    "# Combine the data into a single dataset\n",
    "mouse_metadata_raw = mouse_metadata.merge(study_results, how='left', on='Mouse ID')\n",
    "mouse_metadata_raw.head(5)"
   ]
  },
  {
   "cell_type": "code",
   "execution_count": 2,
   "metadata": {},
   "outputs": [
    {
     "name": "stdout",
     "output_type": "stream",
     "text": [
      "249 mice were in the test case\n",
      "\n",
      "total tests\n",
      "----------------------------------------\n",
      "1893\n",
      "\n",
      "Found a duplicate test\n",
      "----------------------------------------\n",
      "    Mouse ID Drug Regimen     Sex  Age_months\n",
      "909     g989     Propriva  Female          21\n",
      "\n",
      "Corrected total number of tests\n",
      "----------------------------------------\n",
      "1880\n",
      "\n"
     ]
    }
   ],
   "source": [
    "# Checking the number of mice in the DataFrame.\n",
    "print(f\"{len(mouse_metadata_raw['Mouse ID'].unique())} mice were in the test case\\n\")\n",
    "\n",
    "# Getting the duplicate mice by ID number that shows up for Mouse ID and Timepoint. \n",
    "print(f\"total tests\\n{'--'*20}\\n{mouse_metadata_raw['Mouse ID'].count()}\\n\")\n",
    "\n",
    "# Optional: Get all the data for the duplicate mouse ID. \n",
    "dupe_mouse = mouse_metadata_raw.loc[mouse_metadata_raw.duplicated() == True][['Mouse ID','Drug Regimen','Sex','Age_months']]\n",
    "print(f\"Found a duplicate test\\n{'--'*20}\\n{dupe_mouse}\\n\")\n",
    "\n",
    "# Create a clean DataFrame by dropping the duplicate mouse by its ID.\n",
    "#mouse_metadata_clean_df = mouse_metadata_raw.drop_duplicates().reset_index()\n",
    "mouse_metadata_clean_df = mouse_metadata_raw.loc[mouse_metadata_raw['Mouse ID'] != 'g989'].reset_index()\n",
    "#mouse_metadata_clean_df = mouse_metadata_clean_df\n",
    "# Checking the number of mice in the clean DataFrame.\n",
    "print(f\"Corrected total number of tests\\n{'--'*20}\\n{mouse_metadata_clean_df['Mouse ID'].count()}\\n\")\n"
   ]
  },
  {
   "cell_type": "markdown",
   "metadata": {},
   "source": [
    "## Summary Statistics"
   ]
  },
  {
   "cell_type": "code",
   "execution_count": 3,
   "metadata": {},
   "outputs": [
    {
     "data": {
      "text/html": [
       "<div>\n",
       "<style scoped>\n",
       "    .dataframe tbody tr th:only-of-type {\n",
       "        vertical-align: middle;\n",
       "    }\n",
       "\n",
       "    .dataframe tbody tr th {\n",
       "        vertical-align: top;\n",
       "    }\n",
       "\n",
       "    .dataframe thead th {\n",
       "        text-align: right;\n",
       "    }\n",
       "</style>\n",
       "<table border=\"1\" class=\"dataframe\">\n",
       "  <thead>\n",
       "    <tr style=\"text-align: right;\">\n",
       "      <th></th>\n",
       "      <th>Toumor mean</th>\n",
       "      <th>tumor_median</th>\n",
       "      <th>Tumor Variance</th>\n",
       "      <th>Tumor SD</th>\n",
       "      <th>Tumor SEM</th>\n",
       "    </tr>\n",
       "    <tr>\n",
       "      <th>Drug Regimen</th>\n",
       "      <th></th>\n",
       "      <th></th>\n",
       "      <th></th>\n",
       "      <th></th>\n",
       "      <th></th>\n",
       "    </tr>\n",
       "  </thead>\n",
       "  <tbody>\n",
       "    <tr>\n",
       "      <th>Capomulin</th>\n",
       "      <td>40.675741</td>\n",
       "      <td>41.557809</td>\n",
       "      <td>24.947764</td>\n",
       "      <td>4.994774</td>\n",
       "      <td>0.329346</td>\n",
       "    </tr>\n",
       "    <tr>\n",
       "      <th>Ceftamin</th>\n",
       "      <td>52.591172</td>\n",
       "      <td>51.776157</td>\n",
       "      <td>39.290177</td>\n",
       "      <td>6.268188</td>\n",
       "      <td>0.469821</td>\n",
       "    </tr>\n",
       "    <tr>\n",
       "      <th>Infubinol</th>\n",
       "      <td>52.884795</td>\n",
       "      <td>51.820584</td>\n",
       "      <td>43.128684</td>\n",
       "      <td>6.567243</td>\n",
       "      <td>0.492236</td>\n",
       "    </tr>\n",
       "    <tr>\n",
       "      <th>Ketapril</th>\n",
       "      <td>55.235638</td>\n",
       "      <td>53.698743</td>\n",
       "      <td>68.553577</td>\n",
       "      <td>8.279709</td>\n",
       "      <td>0.603860</td>\n",
       "    </tr>\n",
       "    <tr>\n",
       "      <th>Naftisol</th>\n",
       "      <td>54.331565</td>\n",
       "      <td>52.509285</td>\n",
       "      <td>66.173479</td>\n",
       "      <td>8.134708</td>\n",
       "      <td>0.596466</td>\n",
       "    </tr>\n",
       "    <tr>\n",
       "      <th>Placebo</th>\n",
       "      <td>54.033581</td>\n",
       "      <td>52.288934</td>\n",
       "      <td>61.168083</td>\n",
       "      <td>7.821003</td>\n",
       "      <td>0.581331</td>\n",
       "    </tr>\n",
       "    <tr>\n",
       "      <th>Propriva</th>\n",
       "      <td>52.320930</td>\n",
       "      <td>50.446266</td>\n",
       "      <td>43.852013</td>\n",
       "      <td>6.622085</td>\n",
       "      <td>0.544332</td>\n",
       "    </tr>\n",
       "    <tr>\n",
       "      <th>Ramicane</th>\n",
       "      <td>40.216745</td>\n",
       "      <td>40.673236</td>\n",
       "      <td>23.486704</td>\n",
       "      <td>4.846308</td>\n",
       "      <td>0.320955</td>\n",
       "    </tr>\n",
       "    <tr>\n",
       "      <th>Stelasyn</th>\n",
       "      <td>54.233149</td>\n",
       "      <td>52.431737</td>\n",
       "      <td>59.450562</td>\n",
       "      <td>7.710419</td>\n",
       "      <td>0.573111</td>\n",
       "    </tr>\n",
       "    <tr>\n",
       "      <th>Zoniferol</th>\n",
       "      <td>53.236507</td>\n",
       "      <td>51.818479</td>\n",
       "      <td>48.533355</td>\n",
       "      <td>6.966589</td>\n",
       "      <td>0.516398</td>\n",
       "    </tr>\n",
       "  </tbody>\n",
       "</table>\n",
       "</div>"
      ],
      "text/plain": [
       "              Toumor mean  tumor_median  Tumor Variance  Tumor SD  Tumor SEM\n",
       "Drug Regimen                                                                \n",
       "Capomulin       40.675741     41.557809       24.947764  4.994774   0.329346\n",
       "Ceftamin        52.591172     51.776157       39.290177  6.268188   0.469821\n",
       "Infubinol       52.884795     51.820584       43.128684  6.567243   0.492236\n",
       "Ketapril        55.235638     53.698743       68.553577  8.279709   0.603860\n",
       "Naftisol        54.331565     52.509285       66.173479  8.134708   0.596466\n",
       "Placebo         54.033581     52.288934       61.168083  7.821003   0.581331\n",
       "Propriva        52.320930     50.446266       43.852013  6.622085   0.544332\n",
       "Ramicane        40.216745     40.673236       23.486704  4.846308   0.320955\n",
       "Stelasyn        54.233149     52.431737       59.450562  7.710419   0.573111\n",
       "Zoniferol       53.236507     51.818479       48.533355  6.966589   0.516398"
      ]
     },
     "execution_count": 3,
     "metadata": {},
     "output_type": "execute_result"
    }
   ],
   "source": [
    "# Generate a summary statistics table of mean, median, variance, standard deviation, and SEM of the tumor volume for each regimen\n",
    "\n",
    "regime_group = mouse_metadata_clean_df.groupby(['Drug Regimen'])\n",
    "tumor_mean = regime_group.mean()['Tumor Volume (mm3)']\n",
    "tumor_median = regime_group.median()['Tumor Volume (mm3)']\n",
    "tumor_variance = regime_group.var()['Tumor Volume (mm3)']\n",
    "tumor_sd = regime_group.std()['Tumor Volume (mm3)']\n",
    "tumor_sem = regime_group.sem()['Tumor Volume (mm3)']\n",
    "\n",
    "\n",
    "regimen_summary_df = pd.DataFrame()\n",
    "\n",
    "regimens = mouse_metadata_clean_df['Drug Regimen'].unique()#['Mouse ID','Drug Regimen','Sex','Age_months','Weight (g)','Timepoint','Tumor Volume (mm3)','Metastatic Sites']\n",
    "\n",
    "regimen_summary_df = pd.DataFrame({'Toumor mean' : tumor_mean,\n",
    "                                   'tumor_median' : tumor_median,\n",
    "                                   'Tumor Variance' : tumor_variance,\n",
    "                                   'Tumor SD' : tumor_sd,\n",
    "                                   'Tumor SEM' : tumor_sem\n",
    "                                  })\n",
    "\n",
    "regimen_summary_df"
   ]
  },
  {
   "cell_type": "markdown",
   "metadata": {},
   "source": [
    "## Bar Plots"
   ]
  },
  {
   "cell_type": "code",
   "execution_count": 4,
   "metadata": {},
   "outputs": [
    {
     "data": {
      "text/html": [
       "<div>\n",
       "<style scoped>\n",
       "    .dataframe tbody tr th:only-of-type {\n",
       "        vertical-align: middle;\n",
       "    }\n",
       "\n",
       "    .dataframe tbody tr th {\n",
       "        vertical-align: top;\n",
       "    }\n",
       "\n",
       "    .dataframe thead th {\n",
       "        text-align: right;\n",
       "    }\n",
       "</style>\n",
       "<table border=\"1\" class=\"dataframe\">\n",
       "  <thead>\n",
       "    <tr style=\"text-align: right;\">\n",
       "      <th></th>\n",
       "      <th>Toumor mean</th>\n",
       "      <th>tumor_median</th>\n",
       "      <th>Tumor Variance</th>\n",
       "      <th>Tumor SD</th>\n",
       "      <th>Tumor SEM</th>\n",
       "    </tr>\n",
       "    <tr>\n",
       "      <th>Drug Regimen</th>\n",
       "      <th></th>\n",
       "      <th></th>\n",
       "      <th></th>\n",
       "      <th></th>\n",
       "      <th></th>\n",
       "    </tr>\n",
       "  </thead>\n",
       "  <tbody>\n",
       "    <tr>\n",
       "      <th>Capomulin</th>\n",
       "      <td>40.675741</td>\n",
       "      <td>41.557809</td>\n",
       "      <td>24.947764</td>\n",
       "      <td>4.994774</td>\n",
       "      <td>0.329346</td>\n",
       "    </tr>\n",
       "    <tr>\n",
       "      <th>Ceftamin</th>\n",
       "      <td>52.591172</td>\n",
       "      <td>51.776157</td>\n",
       "      <td>39.290177</td>\n",
       "      <td>6.268188</td>\n",
       "      <td>0.469821</td>\n",
       "    </tr>\n",
       "  </tbody>\n",
       "</table>\n",
       "</div>"
      ],
      "text/plain": [
       "              Toumor mean  tumor_median  Tumor Variance  Tumor SD  Tumor SEM\n",
       "Drug Regimen                                                                \n",
       "Capomulin       40.675741     41.557809       24.947764  4.994774   0.329346\n",
       "Ceftamin        52.591172     51.776157       39.290177  6.268188   0.469821"
      ]
     },
     "execution_count": 4,
     "metadata": {},
     "output_type": "execute_result"
    }
   ],
   "source": [
    "regimen_summary_df.head(2)\n"
   ]
  },
  {
   "cell_type": "code",
   "execution_count": 5,
   "metadata": {},
   "outputs": [
    {
     "data": {
      "text/plain": [
       "<matplotlib.axes._subplots.AxesSubplot at 0x1b861abc0c8>"
      ]
     },
     "execution_count": 5,
     "metadata": {},
     "output_type": "execute_result"
    },
    {
     "data": {
      "image/png": "[encoded data removed]",
      "text/plain": [
       "<Figure size 432x288 with 1 Axes>"
      ]
     },
     "metadata": {
      "needs_background": "light"
     },
     "output_type": "display_data"
    }
   ],
   "source": [
    "# Generate a bar plot showing number of data points for each treatment regimen using pandas\n",
    "plt.figure()\n",
    "mouse_metadata_clean_df['Drug Regimen'].value_counts().plot(kind='bar', title='Tumor Treatment drug')\n",
    "#.plot.bar(x=0,y='Tumor Volume (mm3)')"
   ]
  },
  {
   "cell_type": "code",
   "execution_count": 6,
   "metadata": {},
   "outputs": [
    {
     "data": {
      "image/png": "[encoded data removed]",
      "text/plain": [
       "<Figure size 432x288 with 1 Axes>"
      ]
     },
     "metadata": {
      "needs_background": "light"
     },
     "output_type": "display_data"
    }
   ],
   "source": [
    "# Generate a bar plot showing number of data points for each treatment regimen using pyplot\n",
    "\n",
    "regime_counts = mouse_metadata_clean_df['Drug Regimen'].value_counts()\n",
    "drug_names = mouse_metadata_clean_df['Drug Regimen'].unique()\n",
    "plt.figure()\n",
    "plt.bar(drug_names, regime_counts, color=\"blue\")\n",
    "plt.xticks(rotation=\"vertical\")\n",
    "plt.xlabel(\"Drug Name\")\n",
    "plt.ylabel(\"Regime Values\")\n",
    "plt.title(\"Tumor Trerament Data points\")\n",
    "plt.tight_layout()\n",
    "plt.show()\n"
   ]
  },
  {
   "cell_type": "markdown",
   "metadata": {},
   "source": [
    "## Pie Plots"
   ]
  },
  {
   "cell_type": "code",
   "execution_count": 7,
   "metadata": {},
   "outputs": [
    {
     "name": "stdout",
     "output_type": "stream",
     "text": [
      "\n",
      "gender_df for pie 1\n",
      "----------------------------------------\n",
      "   Male Mice  Female Mice\n",
      "0        125          123\n",
      "\n",
      "sex_df for pie 2\n",
      "----------------------------------------\n",
      "             count\n",
      "Male Mice      125\n",
      "Female Mice    123\n"
     ]
    },
    {
     "data": {
      "image/png": "[encoded data removed]",
      "text/plain": [
       "<Figure size 360x360 with 1 Axes>"
      ]
     },
     "metadata": {},
     "output_type": "display_data"
    }
   ],
   "source": [
    "mice_gen_gp = mouse_metadata_clean_df[['Sex','Mouse ID']].groupby('Mouse ID')#[[,'Sex']]\n",
    "gender_df = pd.DataFrame([{'Male Mice':0,'Female Mice':0}])\n",
    "sex_df = pd.DataFrame({'count' : [0,0]},index=['Male Mice','Female Mice'])\n",
    "\n",
    "for mouse, group in mice_gen_gp:\n",
    "    mouse_id = ''\n",
    "    for row_index, row in group.iterrows():\n",
    "        if mouse_id == mouse: continue\n",
    "        if row['Sex'] == 'Female':\n",
    "            gender_df['Female Mice'] += 1\n",
    "        else:\n",
    "            gender_df['Male Mice'] += 1\n",
    "        mouse_id = mouse\n",
    "        \n",
    "sex_df['count'][0] = gender_df['Male Mice']\n",
    "sex_df['count'][1] = gender_df['Female Mice']     \n",
    "gender=list(gender_df.columns)       \n",
    "print(f\"\\ngender_df for pie 1\\n{'--'*20}\\n{gender_df}\")\n",
    "print(f\"\\nsex_df for pie 2\\n{'--'*20}\\n{sex_df}\")\n",
    "\n",
    "colors=[\"blue\", \"pink\"]\n",
    "\n",
    "mouseplot = sex_df.plot.pie(y='count', figsize=(5, 5), colors=colors, autopct='%1.1f%%', textprops=dict(color=\"w\"), shadow=True, startangle=45)\n",
    "\n",
    "#mouseplot.legend(wedges, ingredients, title=\"Ingredients\", loc=\"center left\", bbox_to_anchor=(1, 0, 0.5, 1))\n",
    "mouseplot.set_title(\"Test Case Mice Gender Distribution (pandas.pie)\")\n",
    "\n",
    "plt.show()"
   ]
  },
  {
   "cell_type": "code",
   "execution_count": 8,
   "metadata": {},
   "outputs": [
    {
     "name": "stderr",
     "output_type": "stream",
     "text": [
      "C:\\Users\\SeaLord\\anaconda37\\lib\\site-packages\\ipykernel_launcher.py:3: MatplotlibDeprecationWarning: Non-1D inputs to pie() are currently squeeze()d, but this behavior is deprecated since 3.1 and will be removed in 3.3; pass a 1D array instead.\n",
      "  This is separate from the ipykernel package so we can avoid doing imports until\n"
     ]
    },
    {
     "data": {
      "image/png": "[encoded data removed]",
      "text/plain": [
       "<Figure size 360x360 with 1 Axes>"
      ]
     },
     "metadata": {},
     "output_type": "display_data"
    }
   ],
   "source": [
    "# Generate a pie plot showing the distribution of female versus male mice using pyplot\n",
    "plt.subplots(figsize=(5, 5), subplot_kw=dict(aspect=\"equal\"))\n",
    "plt.pie(gender_df, explode=(0.1,0), colors=colors, textprops=dict(color=\"w\"), labels=gender, autopct='%1.1f%%', shadow=True, startangle=45)\n",
    "plt.set_title=(\"Test Case Mice Gender Distribution (pyplot)\")\n",
    "plt.show()"
   ]
  },
  {
   "cell_type": "markdown",
   "metadata": {},
   "source": [
    "## Quartiles, Outliers and Boxplots"
   ]
  },
  {
   "cell_type": "code",
   "execution_count": 19,
   "metadata": {},
   "outputs": [
    {
     "name": "stdout",
     "output_type": "stream",
     "text": [
      "Quartiles for Capomulin\n",
      "----------------------------------------\n",
      "\n",
      "\tLower quartile of Capomulin tumor volume\n",
      "\t----------------------------------------\n",
      "\t\t32.37735684\n",
      "\tUpper quartile of Capomulin tumor volume\n",
      "\t----------------------------------------\n",
      "\t\t40.1592203\n",
      "\tInterquartile range of Capomulin tumor volume\n",
      "\t----------------------------------------\n",
      "\t\t7.781863460000004\n",
      "\tMedian of Capomulin tumor volume\n",
      "\t----------------------------------------\n",
      "\t38.125164399999996\n",
      "\tTumor volume Lower Bounds\n",
      "\t----------------------------------------\n",
      "\t\t20.70456164999999\n",
      "\tTumor volume Upper Bounds\n",
      "\t----------------------------------------\n",
      "\t\t51.83201549\n",
      "Quartiles for Ramicane\n",
      "----------------------------------------\n",
      "\n",
      "\tLower quartile of Ramicane tumor volume\n",
      "\t----------------------------------------\n",
      "\t\t31.56046955\n",
      "\tUpper quartile of Ramicane tumor volume\n",
      "\t----------------------------------------\n",
      "\t\t40.65900627\n",
      "\tInterquartile range of Ramicane tumor volume\n",
      "\t----------------------------------------\n",
      "\t\t9.098536719999998\n",
      "\tMedian of Ramicane tumor volume\n",
      "\t----------------------------------------\n",
      "\t36.56165229\n",
      "\tTumor volume Lower Bounds\n",
      "\t----------------------------------------\n",
      "\t\t17.912664470000003\n",
      "\tTumor volume Upper Bounds\n",
      "\t----------------------------------------\n",
      "\t\t54.30681135\n",
      "Quartiles for Infubinol\n",
      "----------------------------------------\n",
      "\n",
      "\tLower quartile of Infubinol tumor volume\n",
      "\t----------------------------------------\n",
      "\t\t54.04860769\n",
      "\tUpper quartile of Infubinol tumor volume\n",
      "\t----------------------------------------\n",
      "\t\t65.52574285\n",
      "\tInterquartile range of Infubinol tumor volume\n",
      "\t----------------------------------------\n",
      "\t\t11.477135160000003\n",
      "\tMedian of Infubinol tumor volume\n",
      "\t----------------------------------------\n",
      "\t60.16518046\n",
      "\tTumor volume Lower Bounds\n",
      "\t----------------------------------------\n",
      "\t\t36.83290494999999\n",
      "\tTumor volume Upper Bounds\n",
      "\t----------------------------------------\n",
      "\t\t82.74144559000001\n",
      "Quartiles for Ceftamin\n",
      "----------------------------------------\n",
      "\n",
      "\tLower quartile of Ceftamin tumor volume\n",
      "\t----------------------------------------\n",
      "\t\t48.72207785\n",
      "\tUpper quartile of Ceftamin tumor volume\n",
      "\t----------------------------------------\n",
      "\t\t64.29983003\n",
      "\tInterquartile range of Ceftamin tumor volume\n",
      "\t----------------------------------------\n",
      "\t\t15.577752179999997\n",
      "\tMedian of Ceftamin tumor volume\n",
      "\t----------------------------------------\n",
      "\t59.85195552\n",
      "\tTumor volume Lower Bounds\n",
      "\t----------------------------------------\n",
      "\t\t25.355449580000002\n",
      "\tTumor volume Upper Bounds\n",
      "\t----------------------------------------\n",
      "\t\t87.66645829999999\n"
     ]
    }
   ],
   "source": [
    "# Calculate the final tumor volume of each mouse across four of the most promising treatment regimens. Calculate the IQR and quantitatively determine if there are any potential outliers. \n",
    "\n",
    "\n",
    "\n",
    "drug_list = ['Capomulin','Ramicane','Infubinol','Ceftamin']\n",
    "\n",
    "four_drugs_df = mouse_metadata_clean_df.loc[(mouse_metadata_clean_df['Drug Regimen'] == 'Capomulin')|\n",
    "                                           (mouse_metadata_clean_df['Drug Regimen'] == 'Ramicane')|\n",
    "                                           (mouse_metadata_clean_df['Drug Regimen'] == 'Infubinol')|\n",
    "                                           (mouse_metadata_clean_df['Drug Regimen'] == 'Ceftamin')]\n",
    "\n",
    "four_drugs_df.reset_index()\n",
    "best_treatment_df = four_drugs_df.groupby(['Mouse ID']).nth(-1)\n",
    "best_treatment_df.sort_values(by=['Mouse ID'])\n",
    "count = 0\n",
    "treatment = []\n",
    "for drug in drug_list:\n",
    "    treatment.append({drug : best_treatment_df[best_treatment_df['Drug Regimen'] == drug]['Tumor Volume (mm3)']})\n",
    "    #treatment2 = best_treatment_df[best_treatment_df['Drug Regimen'] == 'Ramicane']['Tumor Volume (mm3)']\n",
    "    #treatment3 = best_treatment_df[best_treatment_df['Drug Regimen'] == 'Infubinol']['Tumor Volume (mm3)']\n",
    "    #treatment4 = best_treatment_df[best_treatment_df['Drug Regimen'] == 'Ceftamin']['Tumor Volume (mm3)']\n",
    "    # Quartile calculations: Capomulin\n",
    "    print(f\"Quartiles for {drug}\\n{'--'*20}\\n\")\n",
    "    quartiles = treatment[count][drug].quantile([.25,.5,.75])\n",
    "    lowerq = quartiles[0.25]\n",
    "    upperq = quartiles[0.75]\n",
    "    iqr = upperq-lowerq\n",
    "    print(f\"\\tLower quartile of {drug} tumor volume\\n\\t{'--'*20}\\n\\t\\t{lowerq}\")\n",
    "    print(f\"\\tUpper quartile of {drug} tumor volume\\n\\t{'--'*20}\\n\\t\\t{upperq}\")\n",
    "    print(f\"\\tInterquartile range of {drug} tumor volume\\n\\t{'--'*20}\\n\\t\\t{iqr}\")\n",
    "    print(f\"\\tMedian of {drug} tumor volume\\n\\t{'--'*20}\\n\\t{quartiles[0.5]}\")\n",
    "    lower_bound = lowerq - (1.5*iqr)\n",
    "    upper_bound = upperq + (1.5*iqr)\n",
    "    print(f\"\\tTumor volume Lower Bounds\\n\\t{'--'*20}\\n\\t\\t{lower_bound}\")\n",
    "    print(f\"\\tTumor volume Upper Bounds\\n\\t{'--'*20}\\n\\t\\t{upper_bound}\")\n",
    "    count += 1\n",
    "# Quartile calculations: Ramicane\n",
    "#quartiles = treatment2.quantile([.25,.5,.75])\n",
    "#lowerq = quartiles[0.25]\n",
    "#upperq = quartiles[0.75]\n",
    "#iqr = upperq-lowerq\n",
    "#print(f\"\\nLower quartile of Ramicane tumor volume\\n{'--'*20}\\n\\t{lowerq}\")\n",
    "#print(f\"\\nUpper quartile of Ramicane tumor volume\\n{'--'*20}\\n\\t{upperq}\")\n",
    "#print(f\"\\nInterquartile range of Ramicane tumor volume\\n{'--'*20}\\n\\t{iqr}\")\n",
    "#print(f\"\\nMedian of Ramicane tumor volume\\n{'--'*20}\\n\\t{quartiles[0.5]} \")\n",
    "#lower_bound = lowerq - (1.5*iqr)\n",
    "#upper_bound = upperq + (1.5*iqr)\n",
    "#print(f\"\\nRamicane Tumor volume Lower Bounds\\n{'--'*20}\\n\\t{lower_bound}\")\n",
    "#print(f\"\\nRamicane Tumor volume Upper Bounds\\n{'--'*20}\\n\\t{upper_bound}\")"
   ]
  },
  {
   "cell_type": "code",
   "execution_count": 21,
   "metadata": {},
   "outputs": [
    {
     "ename": "TypeError",
     "evalue": "boxplot() got an unexpected keyword argument 'sy'",
     "output_type": "error",
     "traceback": [
      "\u001b[1;31m---------------------------------------------------------------------------\u001b[0m",
      "\u001b[1;31mTypeError\u001b[0m                                 Traceback (most recent call last)",
      "\u001b[1;32m<ipython-input-21-94e9e5d62a62>\u001b[0m in \u001b[0;36m<module>\u001b[1;34m\u001b[0m\n\u001b[0;32m      1\u001b[0m \u001b[1;31m# Generate a box plot of the final tumor volume of each mouse across four regimens of interest\u001b[0m\u001b[1;33m\u001b[0m\u001b[1;33m\u001b[0m\u001b[1;33m\u001b[0m\u001b[0m\n\u001b[0;32m      2\u001b[0m \u001b[0mplt\u001b[0m\u001b[1;33m.\u001b[0m\u001b[0mfigure\u001b[0m\u001b[1;33m(\u001b[0m\u001b[1;33m)\u001b[0m\u001b[1;33m\u001b[0m\u001b[1;33m\u001b[0m\u001b[0m\n\u001b[1;32m----> 3\u001b[1;33m \u001b[0mplt\u001b[0m\u001b[1;33m.\u001b[0m\u001b[0mboxplot\u001b[0m\u001b[1;33m(\u001b[0m\u001b[1;33m[\u001b[0m\u001b[0mtreatment\u001b[0m\u001b[1;33m[\u001b[0m\u001b[1;36m0\u001b[0m\u001b[1;33m]\u001b[0m\u001b[1;33m[\u001b[0m\u001b[0mdrug_list\u001b[0m\u001b[1;33m[\u001b[0m\u001b[1;36m0\u001b[0m\u001b[1;33m]\u001b[0m\u001b[1;33m]\u001b[0m\u001b[1;33m,\u001b[0m\u001b[0mtreatment\u001b[0m\u001b[1;33m[\u001b[0m\u001b[1;36m1\u001b[0m\u001b[1;33m]\u001b[0m\u001b[1;33m[\u001b[0m\u001b[0mdrug_list\u001b[0m\u001b[1;33m[\u001b[0m\u001b[1;36m1\u001b[0m\u001b[1;33m]\u001b[0m\u001b[1;33m]\u001b[0m\u001b[1;33m,\u001b[0m\u001b[0mtreatment\u001b[0m\u001b[1;33m[\u001b[0m\u001b[1;36m2\u001b[0m\u001b[1;33m]\u001b[0m\u001b[1;33m[\u001b[0m\u001b[0mdrug_list\u001b[0m\u001b[1;33m[\u001b[0m\u001b[1;36m2\u001b[0m\u001b[1;33m]\u001b[0m\u001b[1;33m]\u001b[0m\u001b[1;33m,\u001b[0m\u001b[0mtreatment\u001b[0m\u001b[1;33m[\u001b[0m\u001b[1;36m3\u001b[0m\u001b[1;33m]\u001b[0m\u001b[1;33m[\u001b[0m\u001b[0mdrug_list\u001b[0m\u001b[1;33m[\u001b[0m\u001b[1;36m3\u001b[0m\u001b[1;33m]\u001b[0m\u001b[1;33m]\u001b[0m\u001b[1;33m]\u001b[0m\u001b[1;33m,\u001b[0m\u001b[0mlabels\u001b[0m\u001b[1;33m=\u001b[0m\u001b[0mdrug_list\u001b[0m\u001b[1;33m,\u001b[0m\u001b[0msy\u001b[0m\u001b[1;33m=\u001b[0m\u001b[1;34m'ro'\u001b[0m\u001b[1;33m)\u001b[0m\u001b[1;33m\u001b[0m\u001b[1;33m\u001b[0m\u001b[0m\n\u001b[0m\u001b[0;32m      4\u001b[0m \u001b[0mplt\u001b[0m\u001b[1;33m.\u001b[0m\u001b[0mxlabel\u001b[0m\u001b[1;33m(\u001b[0m\u001b[1;34m'Drug Names'\u001b[0m\u001b[1;33m)\u001b[0m\u001b[1;33m\u001b[0m\u001b[1;33m\u001b[0m\u001b[0m\n\u001b[0;32m      5\u001b[0m \u001b[0mplt\u001b[0m\u001b[1;33m.\u001b[0m\u001b[0mylabel\u001b[0m\u001b[1;33m(\u001b[0m\u001b[1;34m'Tumor Valume per Mouse'\u001b[0m\u001b[1;33m)\u001b[0m\u001b[1;33m\u001b[0m\u001b[1;33m\u001b[0m\u001b[0m\n",
      "\u001b[1;31mTypeError\u001b[0m: boxplot() got an unexpected keyword argument 'sy'"
     ]
    },
    {
     "data": {
      "text/plain": [
       "<Figure size 432x288 with 0 Axes>"
      ]
     },
     "metadata": {},
     "output_type": "display_data"
    }
   ],
   "source": [
    "# Generate a box plot of the final tumor volume of each mouse across four regimens of interest\n",
    "plt.figure()\n",
    "plt.boxplot([treatment[0][drug_list[0]],treatment[1][drug_list[1]],treatment[2][drug_list[2]],treatment[3][drug_list[3]]],labels=drug_list,sy='ro')\n",
    "plt.xlabel('Drug Names')\n",
    "plt.ylabel('Tumor Valume per Mouse')\n",
    "plt.title('Tumor Volume across four Drug Regimens')\n",
    "plt.tight_layout()\n",
    "plt.show()"
   ]
  },
  {
   "cell_type": "markdown",
   "metadata": {},
   "source": [
    "## Line and Scatter Plots"
   ]
  },
  {
   "cell_type": "code",
   "execution_count": 22,
   "metadata": {},
   "outputs": [
    {
     "data": {
      "text/html": [
       "<div>\n",
       "<style scoped>\n",
       "    .dataframe tbody tr th:only-of-type {\n",
       "        vertical-align: middle;\n",
       "    }\n",
       "\n",
       "    .dataframe tbody tr th {\n",
       "        vertical-align: top;\n",
       "    }\n",
       "\n",
       "    .dataframe thead th {\n",
       "        text-align: right;\n",
       "    }\n",
       "</style>\n",
       "<table border=\"1\" class=\"dataframe\">\n",
       "  <thead>\n",
       "    <tr style=\"text-align: right;\">\n",
       "      <th></th>\n",
       "      <th>index</th>\n",
       "      <th>Mouse ID</th>\n",
       "      <th>Drug Regimen</th>\n",
       "      <th>Sex</th>\n",
       "      <th>Age_months</th>\n",
       "      <th>Weight (g)</th>\n",
       "      <th>Timepoint</th>\n",
       "      <th>Tumor Volume (mm3)</th>\n",
       "      <th>Metastatic Sites</th>\n",
       "    </tr>\n",
       "  </thead>\n",
       "  <tbody>\n",
       "    <tr>\n",
       "      <th>1439</th>\n",
       "      <td>1452</td>\n",
       "      <td>r157</td>\n",
       "      <td>Capomulin</td>\n",
       "      <td>Male</td>\n",
       "      <td>22</td>\n",
       "      <td>25</td>\n",
       "      <td>0</td>\n",
       "      <td>45.000000</td>\n",
       "      <td>0</td>\n",
       "    </tr>\n",
       "    <tr>\n",
       "      <th>1440</th>\n",
       "      <td>1453</td>\n",
       "      <td>r157</td>\n",
       "      <td>Capomulin</td>\n",
       "      <td>Male</td>\n",
       "      <td>22</td>\n",
       "      <td>25</td>\n",
       "      <td>5</td>\n",
       "      <td>45.597064</td>\n",
       "      <td>0</td>\n",
       "    </tr>\n",
       "    <tr>\n",
       "      <th>1441</th>\n",
       "      <td>1454</td>\n",
       "      <td>r157</td>\n",
       "      <td>Capomulin</td>\n",
       "      <td>Male</td>\n",
       "      <td>22</td>\n",
       "      <td>25</td>\n",
       "      <td>10</td>\n",
       "      <td>46.059608</td>\n",
       "      <td>0</td>\n",
       "    </tr>\n",
       "    <tr>\n",
       "      <th>1442</th>\n",
       "      <td>1455</td>\n",
       "      <td>r157</td>\n",
       "      <td>Capomulin</td>\n",
       "      <td>Male</td>\n",
       "      <td>22</td>\n",
       "      <td>25</td>\n",
       "      <td>15</td>\n",
       "      <td>46.539206</td>\n",
       "      <td>0</td>\n",
       "    </tr>\n",
       "  </tbody>\n",
       "</table>\n",
       "</div>"
      ],
      "text/plain": [
       "      index Mouse ID Drug Regimen   Sex  Age_months  Weight (g)  Timepoint  \\\n",
       "1439   1452     r157    Capomulin  Male          22          25          0   \n",
       "1440   1453     r157    Capomulin  Male          22          25          5   \n",
       "1441   1454     r157    Capomulin  Male          22          25         10   \n",
       "1442   1455     r157    Capomulin  Male          22          25         15   \n",
       "\n",
       "      Tumor Volume (mm3)  Metastatic Sites  \n",
       "1439           45.000000                 0  \n",
       "1440           45.597064                 0  \n",
       "1441           46.059608                 0  \n",
       "1442           46.539206                 0  "
      ]
     },
     "execution_count": 22,
     "metadata": {},
     "output_type": "execute_result"
    }
   ],
   "source": [
    "# Generate a line plot of time point versus tumor volume for a mouse treated with Capomulin\n",
    "mouse_metadata_clean_df.loc[mouse_metadata_clean_df['Mouse ID'] == 'r157']\n",
    "#mouse_metadata_clean_df.loc[mouse_metadata_clean_df['Drug Regimen'] == 'Capomulin']"
   ]
  },
  {
   "cell_type": "code",
   "execution_count": 24,
   "metadata": {},
   "outputs": [
    {
     "data": {
      "image/png": "[encoded data removed]",
      "text/plain": [
       "<Figure size 432x288 with 1 Axes>"
      ]
     },
     "metadata": {
      "needs_background": "light"
     },
     "output_type": "display_data"
    }
   ],
   "source": [
    "# Generate a scatter plot of mouse weight versus average tumor volume for the Capomulin regimen\n",
    "Capo_df = mouse_metadata_clean_df.loc[mouse_metadata_clean_df['Drug Regimen'] == 'Capomulin']\n",
    "capavg = Capo_df.groupby(['Mouse ID']).mean()\n",
    "plt.scatter(capavg['Weight (g)'],capavg['Tumor Volume (mm3)'])\n",
    "plt.xlabel('Weight (g)')\n",
    "plt.ylabel('Average Tumor Volume (mm3)')\n",
    "plt.show()"
   ]
  },
  {
   "cell_type": "markdown",
   "metadata": {},
   "source": [
    "## Correlation and Regression"
   ]
  },
  {
   "cell_type": "code",
   "execution_count": 25,
   "metadata": {},
   "outputs": [
    {
     "ename": "NameError",
     "evalue": "name 'sp_df' is not defined",
     "output_type": "error",
     "traceback": [
      "\u001b[1;31m---------------------------------------------------------------------------\u001b[0m",
      "\u001b[1;31mNameError\u001b[0m                                 Traceback (most recent call last)",
      "\u001b[1;32m<ipython-input-25-609cc9b86674>\u001b[0m in \u001b[0;36m<module>\u001b[1;34m\u001b[0m\n\u001b[0;32m      2\u001b[0m \u001b[1;31m# for mouse weight and average tumor volume for the Capomulin regimen\u001b[0m\u001b[1;33m\u001b[0m\u001b[1;33m\u001b[0m\u001b[1;33m\u001b[0m\u001b[0m\n\u001b[0;32m      3\u001b[0m \u001b[1;33m\u001b[0m\u001b[0m\n\u001b[1;32m----> 4\u001b[1;33m \u001b[0mx_values\u001b[0m \u001b[1;33m=\u001b[0m \u001b[0msp_df\u001b[0m\u001b[1;33m[\u001b[0m\u001b[1;34m\"Weight (g)\"\u001b[0m\u001b[1;33m]\u001b[0m\u001b[1;33m\u001b[0m\u001b[1;33m\u001b[0m\u001b[0m\n\u001b[0m\u001b[0;32m      5\u001b[0m \u001b[0my_values\u001b[0m \u001b[1;33m=\u001b[0m \u001b[0msp_df\u001b[0m\u001b[1;33m[\u001b[0m\u001b[1;34m\"Tumor Volume (mm3)\"\u001b[0m\u001b[1;33m]\u001b[0m\u001b[1;33m\u001b[0m\u001b[1;33m\u001b[0m\u001b[0m\n\u001b[0;32m      6\u001b[0m \u001b[1;33m(\u001b[0m\u001b[0mslope\u001b[0m\u001b[1;33m,\u001b[0m \u001b[0mintercept\u001b[0m\u001b[1;33m,\u001b[0m \u001b[0mrvalue\u001b[0m\u001b[1;33m,\u001b[0m \u001b[0mpvalue\u001b[0m\u001b[1;33m,\u001b[0m \u001b[0mstderr\u001b[0m\u001b[1;33m)\u001b[0m \u001b[1;33m=\u001b[0m \u001b[0mlinregress\u001b[0m\u001b[1;33m(\u001b[0m\u001b[0mx_values\u001b[0m\u001b[1;33m,\u001b[0m \u001b[0my_values\u001b[0m\u001b[1;33m)\u001b[0m\u001b[1;33m\u001b[0m\u001b[1;33m\u001b[0m\u001b[0m\n",
      "\u001b[1;31mNameError\u001b[0m: name 'sp_df' is not defined"
     ]
    }
   ],
   "source": [
    "# Calculate the correlation coefficient and linear regression model \n",
    "# for mouse weight and average tumor volume for the Capomulin regimen\n",
    "\n",
    "x_values = sp_df[\"Weight (g)\"]\n",
    "y_values = sp_df[\"Tumor Volume (mm3)\"]\n",
    "(slope, intercept, rvalue, pvalue, stderr) = linregress(x_values, y_values)\n",
    "regress_values = x_values * slope + intercept\n",
    "line_eq = \"y = \" + str(round(slope,2)) + \"x + \" + str(round(intercept,2))\n",
    "plt.figure()\n",
    "plt.scatter(x_values,y_values)\n",
    "plt.plot(x_values,regress_values,\"r-\")\n",
    "plt.annotate(line_eq,(21,38),fontsize=15,color=\"red\")\n",
    "plt.xlabel(\"Weight (g)\")\n",
    "plt.ylabel(\"Average Tumor Volume (mm3)\")\n",
    "plt.title(\"Mouse weight versus average tumor volume for the Capomulin regimen\")\n",
    "plt.tight_layout()\n",
    "plt.show()"
   ]
  },
  {
   "cell_type": "code",
   "execution_count": null,
   "metadata": {},
   "outputs": [],
   "source": []
  }
 ],
 "metadata": {
  "anaconda-cloud": {},
  "kernelspec": {
   "display_name": "Python 3",
   "language": "python",
   "name": "python3"
  },
  "language_info": {
   "codemirror_mode": {
    "name": "ipython",
    "version": 3
   },
   "file_extension": ".py",
   "mimetype": "text/x-python",
   "name": "python",
   "nbconvert_exporter": "python",
   "pygments_lexer": "ipython3",
   "version": "3.7.7"
  }
 },
 "nbformat": 4,
 "nbformat_minor": 4
}
